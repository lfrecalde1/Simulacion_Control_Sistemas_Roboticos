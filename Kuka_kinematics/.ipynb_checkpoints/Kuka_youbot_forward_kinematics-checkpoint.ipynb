{
 "cells": [
  {
   "cell_type": "markdown",
   "id": "0015a871",
   "metadata": {},
   "source": [
    "## Kuka Youbot Kinematics"
   ]
  },
  {
   "cell_type": "markdown",
   "id": "153bbc00",
   "metadata": {},
   "source": [
    "### Import Libraries"
   ]
  },
  {
   "cell_type": "code",
   "execution_count": 1,
   "id": "52c30e27",
   "metadata": {},
   "outputs": [],
   "source": [
    "import numpy as np\n",
    "from sympy import*\n",
    "init_printing()"
   ]
  },
  {
   "cell_type": "markdown",
   "id": "3eed565d",
   "metadata": {},
   "source": [
    "### Definition of symbolic variables"
   ]
  },
  {
   "cell_type": "code",
   "execution_count": 2,
   "id": "648833df",
   "metadata": {},
   "outputs": [],
   "source": [
    "theta_1 = symbols(\"theta_1\",  real=True)\n",
    "alpha_1 = symbols(\"alpha_1\",  real=True)\n",
    "d_1 = symbols(\"d_1\",  real=True)\n",
    "a_1 = symbols(\"a_1\",  real=True)\n"
   ]
  },
  {
   "cell_type": "code",
   "execution_count": 3,
   "id": "f592a264",
   "metadata": {},
   "outputs": [],
   "source": [
    "def denavit(a, alpha, d, theta):\n",
    "    # Formulate Denavit Matrix\n",
    "    A =  Matrix([[cos(theta), -cos(alpha)*sin(theta), sin(alpha)*sin(theta), a*cos(theta)],\n",
    "                 [sin(theta), cos(alpha)*cos(theta), -sin(alpha)*cos(theta), a*sin(theta)],\n",
    "                 [0, sin(alpha), cos(alpha), d],\n",
    "                 [0, 0, 0, 1]])\n",
    "    return A"
   ]
  },
  {
   "cell_type": "code",
   "execution_count": 4,
   "id": "5ff99264",
   "metadata": {},
   "outputs": [],
   "source": [
    "## Check Matrices\n",
    "A = denavit(a_1, alpha_1, d_1, theta_1)"
   ]
  },
  {
   "cell_type": "code",
   "execution_count": 5,
   "id": "f685c3e7",
   "metadata": {},
   "outputs": [
    {
     "data": {
      "image/png": "[encoded data removed]",
      "text/latex": [
       "$\\displaystyle \\left[\\begin{matrix}\\cos{\\left(\\theta_{1} \\right)} & - \\sin{\\left(\\theta_{1} \\right)} \\cos{\\left(\\alpha_{1} \\right)} & \\sin{\\left(\\alpha_{1} \\right)} \\sin{\\left(\\theta_{1} \\right)} & a_{1} \\cos{\\left(\\theta_{1} \\right)}\\\\\\sin{\\left(\\theta_{1} \\right)} & \\cos{\\left(\\alpha_{1} \\right)} \\cos{\\left(\\theta_{1} \\right)} & - \\sin{\\left(\\alpha_{1} \\right)} \\cos{\\left(\\theta_{1} \\right)} & a_{1} \\sin{\\left(\\theta_{1} \\right)}\\\\0 & \\sin{\\left(\\alpha_{1} \\right)} & \\cos{\\left(\\alpha_{1} \\right)} & d_{1}\\\\0 & 0 & 0 & 1\\end{matrix}\\right]$"
      ],
      "text/plain": [
       "⎡cos(θ₁)  -sin(θ₁)⋅cos(α₁)  sin(α₁)⋅sin(θ₁)   a₁⋅cos(θ₁)⎤\n",
       "⎢                                                       ⎥\n",
       "⎢sin(θ₁)  cos(α₁)⋅cos(θ₁)   -sin(α₁)⋅cos(θ₁)  a₁⋅sin(θ₁)⎥\n",
       "⎢                                                       ⎥\n",
       "⎢   0         sin(α₁)           cos(α₁)           d₁    ⎥\n",
       "⎢                                                       ⎥\n",
       "⎣   0            0                 0              1     ⎦"
      ]
     },
     "execution_count": 5,
     "metadata": {},
     "output_type": "execute_result"
    }
   ],
   "source": [
    "A"
   ]
  },
  {
   "cell_type": "markdown",
   "id": "5e95fd0a",
   "metadata": {},
   "source": [
    "### Denavit hartenberg"
   ]
  },
  {
   "cell_type": "markdown",
   "id": "483cb4f4",
   "metadata": {},
   "source": [
    "### Joint 1"
   ]
  },
  {
   "cell_type": "code",
   "execution_count": 6,
   "id": "424fd4e0",
   "metadata": {},
   "outputs": [],
   "source": [
    "a_1 = symbols(\"a_1\",  real=True)\n",
    "d_1 = symbols(\"d_1\",  real=True)\n",
    "alpha_1 = -pi/2\n",
    "theta_1 = symbols(\"theta_1\",  real=True)"
   ]
  },
  {
   "cell_type": "code",
   "execution_count": 7,
   "id": "1eba6ac3",
   "metadata": {},
   "outputs": [],
   "source": [
    "A_1 = denavit(a_1, alpha_1, d_1, theta_1)"
   ]
  },
  {
   "cell_type": "code",
   "execution_count": 8,
   "id": "acc65817",
   "metadata": {},
   "outputs": [
    {
     "data": {
      "image/png": "[encoded data removed]",
      "text/latex": [
       "$\\displaystyle \\left[\\begin{matrix}\\cos{\\left(\\theta_{1} \\right)} & 0 & - \\sin{\\left(\\theta_{1} \\right)} & a_{1} \\cos{\\left(\\theta_{1} \\right)}\\\\\\sin{\\left(\\theta_{1} \\right)} & 0 & \\cos{\\left(\\theta_{1} \\right)} & a_{1} \\sin{\\left(\\theta_{1} \\right)}\\\\0 & -1 & 0 & d_{1}\\\\0 & 0 & 0 & 1\\end{matrix}\\right]$"
      ],
      "text/plain": [
       "⎡cos(θ₁)  0   -sin(θ₁)  a₁⋅cos(θ₁)⎤\n",
       "⎢                                 ⎥\n",
       "⎢sin(θ₁)  0   cos(θ₁)   a₁⋅sin(θ₁)⎥\n",
       "⎢                                 ⎥\n",
       "⎢   0     -1     0          d₁    ⎥\n",
       "⎢                                 ⎥\n",
       "⎣   0     0      0          1     ⎦"
      ]
     },
     "execution_count": 8,
     "metadata": {},
     "output_type": "execute_result"
    }
   ],
   "source": [
    "A_1"
   ]
  },
  {
   "cell_type": "markdown",
   "id": "33d8858d",
   "metadata": {},
   "source": [
    "### Joint 2"
   ]
  },
  {
   "cell_type": "code",
   "execution_count": 9,
   "id": "1e76b47c",
   "metadata": {},
   "outputs": [],
   "source": [
    "a_2 = symbols(\"a_2\",  real=True)\n",
    "d_2 = 0\n",
    "alpha_2 = 0\n",
    "theta_2 = symbols(\"theta_2\",  real=True)"
   ]
  },
  {
   "cell_type": "code",
   "execution_count": 10,
   "id": "90acf1a3",
   "metadata": {},
   "outputs": [],
   "source": [
    "A_2 = denavit(a_2, alpha_2, d_2, theta_2)"
   ]
  },
  {
   "cell_type": "code",
   "execution_count": 11,
   "id": "0515f6de",
   "metadata": {},
   "outputs": [
    {
     "data": {
      "image/png": "[encoded data removed]",
      "text/latex": [
       "$\\displaystyle \\left[\\begin{matrix}\\cos{\\left(\\theta_{2} \\right)} & - \\sin{\\left(\\theta_{2} \\right)} & 0 & a_{2} \\cos{\\left(\\theta_{2} \\right)}\\\\\\sin{\\left(\\theta_{2} \\right)} & \\cos{\\left(\\theta_{2} \\right)} & 0 & a_{2} \\sin{\\left(\\theta_{2} \\right)}\\\\0 & 0 & 1 & 0\\\\0 & 0 & 0 & 1\\end{matrix}\\right]$"
      ],
      "text/plain": [
       "⎡cos(θ₂)  -sin(θ₂)  0  a₂⋅cos(θ₂)⎤\n",
       "⎢                                ⎥\n",
       "⎢sin(θ₂)  cos(θ₂)   0  a₂⋅sin(θ₂)⎥\n",
       "⎢                                ⎥\n",
       "⎢   0        0      1      0     ⎥\n",
       "⎢                                ⎥\n",
       "⎣   0        0      0      1     ⎦"
      ]
     },
     "execution_count": 11,
     "metadata": {},
     "output_type": "execute_result"
    }
   ],
   "source": [
    "A_2"
   ]
  },
  {
   "cell_type": "markdown",
   "id": "b144b293",
   "metadata": {},
   "source": [
    "### Joint 3"
   ]
  },
  {
   "cell_type": "code",
   "execution_count": 12,
   "id": "676659d7",
   "metadata": {},
   "outputs": [],
   "source": [
    "a_3 = symbols(\"a_3\",  real=True)\n",
    "d_3 = 0\n",
    "alpha_3 = 0\n",
    "theta_3 = symbols(\"theta_3\",  real=True)"
   ]
  },
  {
   "cell_type": "code",
   "execution_count": 13,
   "id": "28a80449",
   "metadata": {},
   "outputs": [],
   "source": [
    "A_3 = denavit(a_3, alpha_3, d_3, theta_3)"
   ]
  },
  {
   "cell_type": "code",
   "execution_count": 14,
   "id": "0f8991f8",
   "metadata": {},
   "outputs": [
    {
     "data": {
      "image/png": "[encoded data removed]",
      "text/latex": [
       "$\\displaystyle \\left[\\begin{matrix}\\cos{\\left(\\theta_{3} \\right)} & - \\sin{\\left(\\theta_{3} \\right)} & 0 & a_{3} \\cos{\\left(\\theta_{3} \\right)}\\\\\\sin{\\left(\\theta_{3} \\right)} & \\cos{\\left(\\theta_{3} \\right)} & 0 & a_{3} \\sin{\\left(\\theta_{3} \\right)}\\\\0 & 0 & 1 & 0\\\\0 & 0 & 0 & 1\\end{matrix}\\right]$"
      ],
      "text/plain": [
       "⎡cos(θ₃)  -sin(θ₃)  0  a₃⋅cos(θ₃)⎤\n",
       "⎢                                ⎥\n",
       "⎢sin(θ₃)  cos(θ₃)   0  a₃⋅sin(θ₃)⎥\n",
       "⎢                                ⎥\n",
       "⎢   0        0      1      0     ⎥\n",
       "⎢                                ⎥\n",
       "⎣   0        0      0      1     ⎦"
      ]
     },
     "execution_count": 14,
     "metadata": {},
     "output_type": "execute_result"
    }
   ],
   "source": [
    "A_3"
   ]
  },
  {
   "cell_type": "markdown",
   "id": "5d5e0c4f",
   "metadata": {},
   "source": [
    "### Joint 4"
   ]
  },
  {
   "cell_type": "code",
   "execution_count": 15,
   "id": "237876c6",
   "metadata": {},
   "outputs": [],
   "source": [
    "a_4 = 0\n",
    "d_4 = 0\n",
    "alpha_4 = -pi/2\n",
    "theta_4 = symbols(\"theta_4\",  real=True)"
   ]
  },
  {
   "cell_type": "code",
   "execution_count": 16,
   "id": "c581f9c5",
   "metadata": {},
   "outputs": [
    {
     "data": {
      "image/png": "[encoded data removed]",
      "text/latex": [
       "$\\displaystyle \\left[\\begin{matrix}\\cos{\\left(\\theta_{4} \\right)} & 0 & - \\sin{\\left(\\theta_{4} \\right)} & 0\\\\\\sin{\\left(\\theta_{4} \\right)} & 0 & \\cos{\\left(\\theta_{4} \\right)} & 0\\\\0 & -1 & 0 & 0\\\\0 & 0 & 0 & 1\\end{matrix}\\right]$"
      ],
      "text/plain": [
       "⎡cos(θ₄)  0   -sin(θ₄)  0⎤\n",
       "⎢                        ⎥\n",
       "⎢sin(θ₄)  0   cos(θ₄)   0⎥\n",
       "⎢                        ⎥\n",
       "⎢   0     -1     0      0⎥\n",
       "⎢                        ⎥\n",
       "⎣   0     0      0      1⎦"
      ]
     },
     "execution_count": 16,
     "metadata": {},
     "output_type": "execute_result"
    }
   ],
   "source": [
    "A_4 = denavit(a_4, alpha_4, d_4, theta_4)\n",
    "A_4"
   ]
  },
  {
   "cell_type": "markdown",
   "id": "ffd784a4",
   "metadata": {},
   "source": [
    "### Joint 5"
   ]
  },
  {
   "cell_type": "code",
   "execution_count": 17,
   "id": "c4dc5a68",
   "metadata": {},
   "outputs": [],
   "source": [
    "a_5 = 0\n",
    "d_5 = symbols(\"d_5\",  real=True)\n",
    "alpha_5 = 0\n",
    "theta_5 = symbols(\"theta_5\",  real=True)"
   ]
  },
  {
   "cell_type": "code",
   "execution_count": 18,
   "id": "60bdd6d3",
   "metadata": {},
   "outputs": [
    {
     "data": {
      "image/png": "[encoded data removed]",
      "text/latex": [
       "$\\displaystyle \\left[\\begin{matrix}\\cos{\\left(\\theta_{5} \\right)} & - \\sin{\\left(\\theta_{5} \\right)} & 0 & 0\\\\\\sin{\\left(\\theta_{5} \\right)} & \\cos{\\left(\\theta_{5} \\right)} & 0 & 0\\\\0 & 0 & 1 & d_{5}\\\\0 & 0 & 0 & 1\\end{matrix}\\right]$"
      ],
      "text/plain": [
       "⎡cos(θ₅)  -sin(θ₅)  0  0 ⎤\n",
       "⎢                        ⎥\n",
       "⎢sin(θ₅)  cos(θ₅)   0  0 ⎥\n",
       "⎢                        ⎥\n",
       "⎢   0        0      1  d₅⎥\n",
       "⎢                        ⎥\n",
       "⎣   0        0      0  1 ⎦"
      ]
     },
     "execution_count": 18,
     "metadata": {},
     "output_type": "execute_result"
    }
   ],
   "source": [
    "A_5 = denavit(a_5, alpha_5, d_5, theta_5)\n",
    "A_5"
   ]
  },
  {
   "cell_type": "markdown",
   "id": "5f98e8a9",
   "metadata": {},
   "source": [
    "### Forward Kinematics"
   ]
  },
  {
   "cell_type": "code",
   "execution_count": 19,
   "id": "f5aa21e1",
   "metadata": {},
   "outputs": [
    {
     "data": {
      "image/png": "[encoded data removed]",
      "text/latex": [
       "$\\displaystyle \\left[\\begin{matrix}\\sin{\\left(\\theta_{1} \\right)} \\sin{\\left(\\theta_{5} \\right)} + \\cos{\\left(\\theta_{1} \\right)} \\cos{\\left(\\theta_{5} \\right)} \\cos{\\left(\\theta_{2} + \\theta_{3} + \\theta_{4} \\right)} & \\sin{\\left(\\theta_{1} \\right)} \\cos{\\left(\\theta_{5} \\right)} - \\sin{\\left(\\theta_{5} \\right)} \\cos{\\left(\\theta_{1} \\right)} \\cos{\\left(\\theta_{2} + \\theta_{3} + \\theta_{4} \\right)} & - \\sin{\\left(\\theta_{2} + \\theta_{3} + \\theta_{4} \\right)} \\cos{\\left(\\theta_{1} \\right)} & \\left(a_{1} + a_{2} \\cos{\\left(\\theta_{2} \\right)} + a_{3} \\cos{\\left(\\theta_{2} + \\theta_{3} \\right)} - d_{5} \\sin{\\left(\\theta_{2} + \\theta_{3} + \\theta_{4} \\right)}\\right) \\cos{\\left(\\theta_{1} \\right)}\\\\\\sin{\\left(\\theta_{1} \\right)} \\cos{\\left(\\theta_{5} \\right)} \\cos{\\left(\\theta_{2} + \\theta_{3} + \\theta_{4} \\right)} - \\sin{\\left(\\theta_{5} \\right)} \\cos{\\left(\\theta_{1} \\right)} & - \\sin{\\left(\\theta_{1} \\right)} \\sin{\\left(\\theta_{5} \\right)} \\cos{\\left(\\theta_{2} + \\theta_{3} + \\theta_{4} \\right)} - \\cos{\\left(\\theta_{1} \\right)} \\cos{\\left(\\theta_{5} \\right)} & - \\sin{\\left(\\theta_{1} \\right)} \\sin{\\left(\\theta_{2} + \\theta_{3} + \\theta_{4} \\right)} & \\left(a_{1} + a_{2} \\cos{\\left(\\theta_{2} \\right)} + a_{3} \\cos{\\left(\\theta_{2} + \\theta_{3} \\right)} - d_{5} \\sin{\\left(\\theta_{2} + \\theta_{3} + \\theta_{4} \\right)}\\right) \\sin{\\left(\\theta_{1} \\right)}\\\\- \\sin{\\left(\\theta_{2} + \\theta_{3} + \\theta_{4} \\right)} \\cos{\\left(\\theta_{5} \\right)} & \\sin{\\left(\\theta_{5} \\right)} \\sin{\\left(\\theta_{2} + \\theta_{3} + \\theta_{4} \\right)} & - \\cos{\\left(\\theta_{2} + \\theta_{3} + \\theta_{4} \\right)} & - a_{2} \\sin{\\left(\\theta_{2} \\right)} - a_{3} \\sin{\\left(\\theta_{2} + \\theta_{3} \\right)} + d_{1} - d_{5} \\cos{\\left(\\theta_{2} + \\theta_{3} + \\theta_{4} \\right)}\\\\0 & 0 & 0 & 1\\end{matrix}\\right]$"
      ],
      "text/plain": [
       "⎡sin(θ₁)⋅sin(θ₅) + cos(θ₁)⋅cos(θ₅)⋅cos(θ₂ + θ₃ + θ₄)  sin(θ₁)⋅cos(θ₅) - sin(θ₅\n",
       "⎢                                                                             \n",
       "⎢sin(θ₁)⋅cos(θ₅)⋅cos(θ₂ + θ₃ + θ₄) - sin(θ₅)⋅cos(θ₁)  -sin(θ₁)⋅sin(θ₅)⋅cos(θ₂ \n",
       "⎢                                                                             \n",
       "⎢            -sin(θ₂ + θ₃ + θ₄)⋅cos(θ₅)                            sin(θ₅)⋅sin\n",
       "⎢                                                                             \n",
       "⎣                         0                                                   \n",
       "\n",
       ")⋅cos(θ₁)⋅cos(θ₂ + θ₃ + θ₄)   -sin(θ₂ + θ₃ + θ₄)⋅cos(θ₁)  (a₁ + a₂⋅cos(θ₂) + a\n",
       "                                                                              \n",
       "+ θ₃ + θ₄) - cos(θ₁)⋅cos(θ₅)  -sin(θ₁)⋅sin(θ₂ + θ₃ + θ₄)  (a₁ + a₂⋅cos(θ₂) + a\n",
       "                                                                              \n",
       "(θ₂ + θ₃ + θ₄)                    -cos(θ₂ + θ₃ + θ₄)          -a₂⋅sin(θ₂) - a₃\n",
       "                                                                              \n",
       " 0                                        0                                   \n",
       "\n",
       "₃⋅cos(θ₂ + θ₃) - d₅⋅sin(θ₂ + θ₃ + θ₄))⋅cos(θ₁)⎤\n",
       "                                              ⎥\n",
       "₃⋅cos(θ₂ + θ₃) - d₅⋅sin(θ₂ + θ₃ + θ₄))⋅sin(θ₁)⎥\n",
       "                                              ⎥\n",
       "⋅sin(θ₂ + θ₃) + d₁ - d₅⋅cos(θ₂ + θ₃ + θ₄)     ⎥\n",
       "                                              ⎥\n",
       "            1                                 ⎦"
      ]
     },
     "execution_count": 19,
     "metadata": {},
     "output_type": "execute_result"
    }
   ],
   "source": [
    "T = simplify(A_1@A_2@A_3@A_4@A_5)\n",
    "T"
   ]
  },
  {
   "cell_type": "code",
   "execution_count": 20,
   "id": "1877cdfb",
   "metadata": {},
   "outputs": [
    {
     "data": {
      "image/png": "[encoded data removed]",
      "text/latex": [
       "$\\displaystyle 1$"
      ],
      "text/plain": [
       "1"
      ]
     },
     "execution_count": 20,
     "metadata": {},
     "output_type": "execute_result"
    }
   ],
   "source": [
    "sin(pi/2)"
   ]
  },
  {
   "cell_type": "code",
   "execution_count": null,
   "id": "0114327f",
   "metadata": {},
   "outputs": [],
   "source": []
  }
 ],
 "metadata": {
  "kernelspec": {
   "display_name": "Python 3 (ipykernel)",
   "language": "python",
   "name": "python3"
  },
  "language_info": {
   "codemirror_mode": {
    "name": "ipython",
    "version": 3
   },
   "file_extension": ".py",
   "mimetype": "text/x-python",
   "name": "python",
   "nbconvert_exporter": "python",
   "pygments_lexer": "ipython3",
   "version": "3.7.16"
  }
 },
 "nbformat": 4,
 "nbformat_minor": 5
}
