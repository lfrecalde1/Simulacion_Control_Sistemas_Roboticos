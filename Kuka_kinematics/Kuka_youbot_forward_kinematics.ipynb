{
 "cells": [
  {
   "cell_type": "markdown",
   "id": "0015a871",
   "metadata": {},
   "source": [
    "## Kuka Youbot Kinematics"
   ]
  },
  {
   "cell_type": "markdown",
   "id": "153bbc00",
   "metadata": {},
   "source": [
    "### Import Libraries"
   ]
  },
  {
   "cell_type": "code",
   "execution_count": 1,
   "id": "52c30e27",
   "metadata": {},
   "outputs": [],
   "source": [
    "import numpy as np\n",
    "from sympy import*\n",
    "init_printing()"
   ]
  },
  {
   "cell_type": "markdown",
   "id": "3eed565d",
   "metadata": {},
   "source": [
    "### Definition of symbolic variables"
   ]
  },
  {
   "cell_type": "code",
   "execution_count": 2,
   "id": "648833df",
   "metadata": {},
   "outputs": [],
   "source": [
    "theta_1 = symbols(\"theta_1\",  real=True)\n",
    "alpha_1 = symbols(\"alpha_1\",  real=True)\n",
    "d_1 = symbols(\"d_1\",  real=True)\n",
    "a_1 = symbols(\"a_1\",  real=True)\n"
   ]
  },
  {
   "cell_type": "code",
   "execution_count": 3,
   "id": "f592a264",
   "metadata": {},
   "outputs": [],
   "source": [
    "def denavit(a, alpha, d, theta):\n",
    "    # Formulate Denavit Matrix\n",
    "    A =  Matrix([[cos(theta), -cos(alpha)*sin(theta), sin(alpha)*sin(theta), a*cos(theta)],\n",
    "                 [sin(theta), cos(alpha)*cos(theta), -sin(alpha)*cos(theta), a*sin(theta)],\n",
    "                 [0, sin(alpha), cos(alpha), d],\n",
    "                 [0, 0, 0, 1]])\n",
    "    return A"
   ]
  },
  {
   "cell_type": "code",
   "execution_count": 4,
   "id": "5ff99264",
   "metadata": {},
   "outputs": [],
   "source": [
    "## Check Matrices\n",
    "A = denavit(a_1, alpha_1, d_1, theta_1)"
   ]
  },
  {
   "cell_type": "code",
   "execution_count": 5,
   "id": "f685c3e7",
   "metadata": {},
   "outputs": [
    {
     "data": {
      "image/png": "[encoded data removed]",
      "text/latex": [
       "$\\displaystyle \\left[\\begin{matrix}\\cos{\\left(\\theta_{1} \\right)} & - \\sin{\\left(\\theta_{1} \\right)} \\cos{\\left(\\alpha_{1} \\right)} & \\sin{\\left(\\alpha_{1} \\right)} \\sin{\\left(\\theta_{1} \\right)} & a_{1} \\cos{\\left(\\theta_{1} \\right)}\\\\\\sin{\\left(\\theta_{1} \\right)} & \\cos{\\left(\\alpha_{1} \\right)} \\cos{\\left(\\theta_{1} \\right)} & - \\sin{\\left(\\alpha_{1} \\right)} \\cos{\\left(\\theta_{1} \\right)} & a_{1} \\sin{\\left(\\theta_{1} \\right)}\\\\0 & \\sin{\\left(\\alpha_{1} \\right)} & \\cos{\\left(\\alpha_{1} \\right)} & d_{1}\\\\0 & 0 & 0 & 1\\end{matrix}\\right]$"
      ],
      "text/plain": [
       "⎡cos(θ₁)  -sin(θ₁)⋅cos(α₁)  sin(α₁)⋅sin(θ₁)   a₁⋅cos(θ₁)⎤\n",
       "⎢                                                       ⎥\n",
       "⎢sin(θ₁)  cos(α₁)⋅cos(θ₁)   -sin(α₁)⋅cos(θ₁)  a₁⋅sin(θ₁)⎥\n",
       "⎢                                                       ⎥\n",
       "⎢   0         sin(α₁)           cos(α₁)           d₁    ⎥\n",
       "⎢                                                       ⎥\n",
       "⎣   0            0                 0              1     ⎦"
      ]
     },
     "execution_count": 5,
     "metadata": {},
     "output_type": "execute_result"
    }
   ],
   "source": [
    "A"
   ]
  },
  {
   "cell_type": "markdown",
   "id": "5e95fd0a",
   "metadata": {},
   "source": [
    "### Denavit hartenberg"
   ]
  },
  {
   "cell_type": "markdown",
   "id": "90c2bd7d",
   "metadata": {},
   "source": [
    "### base displacement"
   ]
  },
  {
   "cell_type": "code",
   "execution_count": 6,
   "id": "eaf42d16",
   "metadata": {},
   "outputs": [],
   "source": [
    "a_0 = symbols(\"a_0\", real = True)\n",
    "d_0 = 0.0\n",
    "alpha_0 = 0.0\n",
    "theta_0 = 0.0\n",
    "A_0 = denavit(a_0, alpha_0, d_0, theta_0)"
   ]
  },
  {
   "cell_type": "markdown",
   "id": "483cb4f4",
   "metadata": {},
   "source": [
    "### Joint 1"
   ]
  },
  {
   "cell_type": "code",
   "execution_count": 7,
   "id": "424fd4e0",
   "metadata": {},
   "outputs": [],
   "source": [
    "a_1 = symbols(\"a_1\",  real=True)\n",
    "d_1 = symbols(\"d_1\",  real=True)\n",
    "alpha_1 = pi/2\n",
    "theta_1 = symbols(\"theta_1\",  real=True)"
   ]
  },
  {
   "cell_type": "code",
   "execution_count": 8,
   "id": "1eba6ac3",
   "metadata": {},
   "outputs": [],
   "source": [
    "A_1 = denavit(a_1, alpha_1, d_1, theta_1)"
   ]
  },
  {
   "cell_type": "code",
   "execution_count": 9,
   "id": "acc65817",
   "metadata": {},
   "outputs": [
    {
     "data": {
      "image/png": "[encoded data removed]",
      "text/latex": [
       "$\\displaystyle \\left[\\begin{matrix}\\cos{\\left(\\theta_{1} \\right)} & 0 & \\sin{\\left(\\theta_{1} \\right)} & a_{1} \\cos{\\left(\\theta_{1} \\right)}\\\\\\sin{\\left(\\theta_{1} \\right)} & 0 & - \\cos{\\left(\\theta_{1} \\right)} & a_{1} \\sin{\\left(\\theta_{1} \\right)}\\\\0 & 1 & 0 & d_{1}\\\\0 & 0 & 0 & 1\\end{matrix}\\right]$"
      ],
      "text/plain": [
       "⎡cos(θ₁)  0  sin(θ₁)   a₁⋅cos(θ₁)⎤\n",
       "⎢                                ⎥\n",
       "⎢sin(θ₁)  0  -cos(θ₁)  a₁⋅sin(θ₁)⎥\n",
       "⎢                                ⎥\n",
       "⎢   0     1     0          d₁    ⎥\n",
       "⎢                                ⎥\n",
       "⎣   0     0     0          1     ⎦"
      ]
     },
     "execution_count": 9,
     "metadata": {},
     "output_type": "execute_result"
    }
   ],
   "source": [
    "A_1"
   ]
  },
  {
   "cell_type": "markdown",
   "id": "33d8858d",
   "metadata": {},
   "source": [
    "### Joint 2"
   ]
  },
  {
   "cell_type": "code",
   "execution_count": 10,
   "id": "1e76b47c",
   "metadata": {},
   "outputs": [],
   "source": [
    "a_2 = symbols(\"a_2\",  real=True)\n",
    "d_2 = 0\n",
    "alpha_2 = 0\n",
    "theta_2 = symbols(\"theta_2\",  real=True)\n",
    "theta_2 = theta_2"
   ]
  },
  {
   "cell_type": "code",
   "execution_count": 11,
   "id": "90acf1a3",
   "metadata": {},
   "outputs": [],
   "source": [
    "A_2 = denavit(a_2, alpha_2, d_2, theta_2 + pi/2)"
   ]
  },
  {
   "cell_type": "code",
   "execution_count": 12,
   "id": "0515f6de",
   "metadata": {},
   "outputs": [
    {
     "data": {
      "image/png": "[encoded data removed]",
      "text/latex": [
       "$\\displaystyle \\left[\\begin{matrix}- \\sin{\\left(\\theta_{2} \\right)} & - \\cos{\\left(\\theta_{2} \\right)} & 0 & - a_{2} \\sin{\\left(\\theta_{2} \\right)}\\\\\\cos{\\left(\\theta_{2} \\right)} & - \\sin{\\left(\\theta_{2} \\right)} & 0 & a_{2} \\cos{\\left(\\theta_{2} \\right)}\\\\0 & 0 & 1 & 0\\\\0 & 0 & 0 & 1\\end{matrix}\\right]$"
      ],
      "text/plain": [
       "⎡-sin(θ₂)  -cos(θ₂)  0  -a₂⋅sin(θ₂)⎤\n",
       "⎢                                  ⎥\n",
       "⎢cos(θ₂)   -sin(θ₂)  0  a₂⋅cos(θ₂) ⎥\n",
       "⎢                                  ⎥\n",
       "⎢   0         0      1       0     ⎥\n",
       "⎢                                  ⎥\n",
       "⎣   0         0      0       1     ⎦"
      ]
     },
     "execution_count": 12,
     "metadata": {},
     "output_type": "execute_result"
    }
   ],
   "source": [
    "A_2"
   ]
  },
  {
   "cell_type": "markdown",
   "id": "b144b293",
   "metadata": {},
   "source": [
    "### Joint 3"
   ]
  },
  {
   "cell_type": "code",
   "execution_count": 13,
   "id": "676659d7",
   "metadata": {},
   "outputs": [],
   "source": [
    "a_3 = symbols(\"a_3\",  real=True)\n",
    "d_3 = 0\n",
    "alpha_3 = 0\n",
    "theta_3 = symbols(\"theta_3\",  real=True)"
   ]
  },
  {
   "cell_type": "code",
   "execution_count": 14,
   "id": "28a80449",
   "metadata": {},
   "outputs": [],
   "source": [
    "A_3 = denavit(a_3, alpha_3, d_3, theta_3)"
   ]
  },
  {
   "cell_type": "code",
   "execution_count": 15,
   "id": "0f8991f8",
   "metadata": {},
   "outputs": [
    {
     "data": {
      "image/png": "[encoded data removed]",
      "text/latex": [
       "$\\displaystyle \\left[\\begin{matrix}\\cos{\\left(\\theta_{3} \\right)} & - \\sin{\\left(\\theta_{3} \\right)} & 0 & a_{3} \\cos{\\left(\\theta_{3} \\right)}\\\\\\sin{\\left(\\theta_{3} \\right)} & \\cos{\\left(\\theta_{3} \\right)} & 0 & a_{3} \\sin{\\left(\\theta_{3} \\right)}\\\\0 & 0 & 1 & 0\\\\0 & 0 & 0 & 1\\end{matrix}\\right]$"
      ],
      "text/plain": [
       "⎡cos(θ₃)  -sin(θ₃)  0  a₃⋅cos(θ₃)⎤\n",
       "⎢                                ⎥\n",
       "⎢sin(θ₃)  cos(θ₃)   0  a₃⋅sin(θ₃)⎥\n",
       "⎢                                ⎥\n",
       "⎢   0        0      1      0     ⎥\n",
       "⎢                                ⎥\n",
       "⎣   0        0      0      1     ⎦"
      ]
     },
     "execution_count": 15,
     "metadata": {},
     "output_type": "execute_result"
    }
   ],
   "source": [
    "A_3"
   ]
  },
  {
   "cell_type": "markdown",
   "id": "5d5e0c4f",
   "metadata": {},
   "source": [
    "### Joint 4"
   ]
  },
  {
   "cell_type": "code",
   "execution_count": 16,
   "id": "237876c6",
   "metadata": {},
   "outputs": [],
   "source": [
    "a_4 = symbols(\"a_4\",  real=True)\n",
    "d_4 = 0.0\n",
    "alpha_4 = 0.0\n",
    "theta_4 = symbols(\"theta_4\",  real=True)"
   ]
  },
  {
   "cell_type": "code",
   "execution_count": 17,
   "id": "c581f9c5",
   "metadata": {},
   "outputs": [
    {
     "data": {
      "image/png": "[encoded data removed]",
      "text/latex": [
       "$\\displaystyle \\left[\\begin{matrix}\\cos{\\left(\\theta_{4} \\right)} & - \\sin{\\left(\\theta_{4} \\right)} & 0 & a_{4} \\cos{\\left(\\theta_{4} \\right)}\\\\\\sin{\\left(\\theta_{4} \\right)} & \\cos{\\left(\\theta_{4} \\right)} & 0 & a_{4} \\sin{\\left(\\theta_{4} \\right)}\\\\0 & 0 & 1 & 0\\\\0 & 0 & 0 & 1\\end{matrix}\\right]$"
      ],
      "text/plain": [
       "⎡cos(θ₄)  -sin(θ₄)  0  a₄⋅cos(θ₄)⎤\n",
       "⎢                                ⎥\n",
       "⎢sin(θ₄)  cos(θ₄)   0  a₄⋅sin(θ₄)⎥\n",
       "⎢                                ⎥\n",
       "⎢   0        0      1      0     ⎥\n",
       "⎢                                ⎥\n",
       "⎣   0        0      0      1     ⎦"
      ]
     },
     "execution_count": 17,
     "metadata": {},
     "output_type": "execute_result"
    }
   ],
   "source": [
    "A_4 = denavit(a_4, alpha_4, d_4, theta_4)\n",
    "A_4"
   ]
  },
  {
   "cell_type": "markdown",
   "id": "ffd784a4",
   "metadata": {},
   "source": [
    "### Joint 5"
   ]
  },
  {
   "cell_type": "code",
   "execution_count": 18,
   "id": "c4dc5a68",
   "metadata": {},
   "outputs": [],
   "source": [
    "a_5_1 = 0\n",
    "d_5_1 = 0\n",
    "alpha_5_1 = -pi/2\n",
    "theta_5_1 = -pi/2"
   ]
  },
  {
   "cell_type": "code",
   "execution_count": 19,
   "id": "60bdd6d3",
   "metadata": {},
   "outputs": [
    {
     "data": {
      "image/png": "[encoded data removed]",
      "text/latex": [
       "$\\displaystyle \\left[\\begin{matrix}0 & 0 & 1 & 0\\\\-1 & 0 & 0 & 0\\\\0 & -1 & 0 & 0\\\\0 & 0 & 0 & 1\\end{matrix}\\right]$"
      ],
      "text/plain": [
       "⎡0   0   1  0⎤\n",
       "⎢            ⎥\n",
       "⎢-1  0   0  0⎥\n",
       "⎢            ⎥\n",
       "⎢0   -1  0  0⎥\n",
       "⎢            ⎥\n",
       "⎣0   0   0  1⎦"
      ]
     },
     "execution_count": 19,
     "metadata": {},
     "output_type": "execute_result"
    }
   ],
   "source": [
    "A_5_1 = denavit(a_5_1, alpha_5_1, d_5_1, theta_5_1)\n",
    "A_5_1"
   ]
  },
  {
   "cell_type": "markdown",
   "id": "fa998598",
   "metadata": {},
   "source": [
    "### Joint 5"
   ]
  },
  {
   "cell_type": "code",
   "execution_count": 20,
   "id": "048b892b",
   "metadata": {},
   "outputs": [],
   "source": [
    "a_5 = 0\n",
    "d_5 = symbols(\"d_5\",  real=True)\n",
    "alpha_5 = 0\n",
    "theta_5 = symbols(\"theta_5\",  real=True)"
   ]
  },
  {
   "cell_type": "code",
   "execution_count": 21,
   "id": "86a22824",
   "metadata": {},
   "outputs": [
    {
     "data": {
      "image/png": "[encoded data removed]",
      "text/latex": [
       "$\\displaystyle \\left[\\begin{matrix}\\cos{\\left(\\theta_{5} \\right)} & - \\sin{\\left(\\theta_{5} \\right)} & 0 & 0\\\\\\sin{\\left(\\theta_{5} \\right)} & \\cos{\\left(\\theta_{5} \\right)} & 0 & 0\\\\0 & 0 & 1 & d_{5}\\\\0 & 0 & 0 & 1\\end{matrix}\\right]$"
      ],
      "text/plain": [
       "⎡cos(θ₅)  -sin(θ₅)  0  0 ⎤\n",
       "⎢                        ⎥\n",
       "⎢sin(θ₅)  cos(θ₅)   0  0 ⎥\n",
       "⎢                        ⎥\n",
       "⎢   0        0      1  d₅⎥\n",
       "⎢                        ⎥\n",
       "⎣   0        0      0  1 ⎦"
      ]
     },
     "execution_count": 21,
     "metadata": {},
     "output_type": "execute_result"
    }
   ],
   "source": [
    "A_5 = denavit(a_5, alpha_5, d_5, theta_5)\n",
    "A_5"
   ]
  },
  {
   "cell_type": "code",
   "execution_count": null,
   "id": "bbf03ce9",
   "metadata": {},
   "outputs": [],
   "source": []
  },
  {
   "cell_type": "markdown",
   "id": "5f98e8a9",
   "metadata": {},
   "source": [
    "### Forward Kinematics"
   ]
  },
  {
   "cell_type": "code",
   "execution_count": 22,
   "id": "f5aa21e1",
   "metadata": {},
   "outputs": [
    {
     "data": {
      "image/png": "[encoded data removed]",
      "text/latex": [
       "$\\displaystyle \\left[\\begin{matrix}\\cos{\\left(\\theta_{1} \\right)} \\cos{\\left(\\theta_{2} + \\theta_{3} + \\theta_{4} \\right)} & - \\sin{\\left(\\theta_{1} \\right)} & - \\sin{\\left(\\theta_{2} + \\theta_{3} + \\theta_{4} \\right)} \\cos{\\left(\\theta_{1} \\right)} & a_{0} + a_{1} \\cos{\\left(\\theta_{1} \\right)} - a_{2} \\sin{\\left(\\theta_{2} \\right)} \\cos{\\left(\\theta_{1} \\right)} - a_{3} \\sin{\\left(\\theta_{2} + \\theta_{3} \\right)} \\cos{\\left(\\theta_{1} \\right)} - a_{4} \\sin{\\left(\\theta_{2} + \\theta_{3} + \\theta_{4} \\right)} \\cos{\\left(\\theta_{1} \\right)}\\\\\\sin{\\left(\\theta_{1} \\right)} \\cos{\\left(\\theta_{2} + \\theta_{3} + \\theta_{4} \\right)} & \\cos{\\left(\\theta_{1} \\right)} & - \\sin{\\left(\\theta_{1} \\right)} \\sin{\\left(\\theta_{2} + \\theta_{3} + \\theta_{4} \\right)} & \\left(a_{1} - a_{2} \\sin{\\left(\\theta_{2} \\right)} - a_{3} \\sin{\\left(\\theta_{2} + \\theta_{3} \\right)} - a_{4} \\sin{\\left(\\theta_{2} + \\theta_{3} + \\theta_{4} \\right)}\\right) \\sin{\\left(\\theta_{1} \\right)}\\\\\\sin{\\left(\\theta_{2} + \\theta_{3} + \\theta_{4} \\right)} & 0 & \\cos{\\left(\\theta_{2} + \\theta_{3} + \\theta_{4} \\right)} & a_{2} \\cos{\\left(\\theta_{2} \\right)} + a_{3} \\cos{\\left(\\theta_{2} + \\theta_{3} \\right)} + a_{4} \\cos{\\left(\\theta_{2} + \\theta_{3} + \\theta_{4} \\right)} + d_{1}\\\\0 & 0 & 0 & 1\\end{matrix}\\right]$"
      ],
      "text/plain": [
       "⎡cos(θ₁)⋅cos(θ₂ + θ₃ + θ₄)  -sin(θ₁)  -sin(θ₂ + θ₃ + θ₄)⋅cos(θ₁)  a₀ + a₁⋅cos(\n",
       "⎢                                                                             \n",
       "⎢sin(θ₁)⋅cos(θ₂ + θ₃ + θ₄)  cos(θ₁)   -sin(θ₁)⋅sin(θ₂ + θ₃ + θ₄)              \n",
       "⎢                                                                             \n",
       "⎢    sin(θ₂ + θ₃ + θ₄)         0          cos(θ₂ + θ₃ + θ₄)                   \n",
       "⎢                                                                             \n",
       "⎣            0                 0                  0                           \n",
       "\n",
       "θ₁) - a₂⋅sin(θ₂)⋅cos(θ₁) - a₃⋅sin(θ₂ + θ₃)⋅cos(θ₁) - a₄⋅sin(θ₂ + θ₃ + θ₄)⋅cos(\n",
       "                                                                              \n",
       " (a₁ - a₂⋅sin(θ₂) - a₃⋅sin(θ₂ + θ₃) - a₄⋅sin(θ₂ + θ₃ + θ₄))⋅sin(θ₁)           \n",
       "                                                                              \n",
       "      a₂⋅cos(θ₂) + a₃⋅cos(θ₂ + θ₃) + a₄⋅cos(θ₂ + θ₃ + θ₄) + d₁                \n",
       "                                                                              \n",
       "                                  1                                           \n",
       "\n",
       "θ₁)⎤\n",
       "   ⎥\n",
       "   ⎥\n",
       "   ⎥\n",
       "   ⎥\n",
       "   ⎥\n",
       "   ⎦"
      ]
     },
     "execution_count": 22,
     "metadata": {},
     "output_type": "execute_result"
    }
   ],
   "source": [
    "T = simplify(A_0@A_1@A_2@A_3@A_4@A_5_1)\n",
    "T"
   ]
  },
  {
   "cell_type": "code",
   "execution_count": 27,
   "id": "1877cdfb",
   "metadata": {},
   "outputs": [
    {
     "name": "stdout",
     "output_type": "stream",
     "text": [
      "a_{0} + a_{1} \\cos{\\left(\\theta_{1} \\right)} - a_{2} \\sin{\\left(\\theta_{2} \\right)} \\cos{\\left(\\theta_{1} \\right)} - a_{3} \\sin{\\left(\\theta_{2} + \\theta_{3} \\right)} \\cos{\\left(\\theta_{1} \\right)} - a_{4} \\sin{\\left(\\theta_{2} + \\theta_{3} + \\theta_{4} \\right)} \\cos{\\left(\\theta_{1} \\right)}\n"
     ]
    }
   ],
   "source": [
    "P = T[0:3, 3]\n",
    "Px = T[0, 3]\n",
    "print_latex(Px)"
   ]
  },
  {
   "cell_type": "code",
   "execution_count": 24,
   "id": "0114327f",
   "metadata": {},
   "outputs": [],
   "source": [
    "dp = P.jacobian([theta_1, theta_2, theta_3, theta_4])"
   ]
  },
  {
   "cell_type": "code",
   "execution_count": 50,
   "id": "b1c76fe1",
   "metadata": {},
   "outputs": [
    {
     "data": {
      "image/png": "[encoded data removed]",
      "text/latex": [
       "$\\displaystyle - a_{4} \\sin{\\left(\\theta_{2} + \\theta_{3} + \\theta_{4} \\right)}$"
      ],
      "text/plain": [
       "-a₄⋅sin(θ₂ + θ₃ + θ₄)"
      ]
     },
     "execution_count": 50,
     "metadata": {},
     "output_type": "execute_result"
    }
   ],
   "source": [
    "dp[2,3]"
   ]
  },
  {
   "cell_type": "code",
   "execution_count": null,
   "id": "598fed8a",
   "metadata": {},
   "outputs": [],
   "source": []
  },
  {
   "cell_type": "code",
   "execution_count": null,
   "id": "2d8c5242",
   "metadata": {},
   "outputs": [],
   "source": []
  },
  {
   "cell_type": "code",
   "execution_count": null,
   "id": "148e2f05",
   "metadata": {},
   "outputs": [],
   "source": []
  },
  {
   "cell_type": "code",
   "execution_count": null,
   "id": "fc98f9af",
   "metadata": {},
   "outputs": [],
   "source": []
  }
 ],
 "metadata": {
  "kernelspec": {
   "display_name": "Python 3 (ipykernel)",
   "language": "python",
   "name": "python3"
  },
  "language_info": {
   "codemirror_mode": {
    "name": "ipython",
    "version": 3
   },
   "file_extension": ".py",
   "mimetype": "text/x-python",
   "name": "python",
   "nbconvert_exporter": "python",
   "pygments_lexer": "ipython3",
   "version": "3.7.16"
  }
 },
 "nbformat": 4,
 "nbformat_minor": 5
}
