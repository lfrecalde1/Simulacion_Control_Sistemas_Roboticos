{
 "cells": [
  {
   "cell_type": "markdown",
   "id": "fb5f77cf",
   "metadata": {},
   "source": [
    "# Kuka Youbot Kinematics"
   ]
  },
  {
   "cell_type": "markdown",
   "id": "bdbee1b7",
   "metadata": {},
   "source": [
    "## Import Libraries"
   ]
  },
  {
   "cell_type": "code",
   "execution_count": 1,
   "id": "6d4d6ffe",
   "metadata": {},
   "outputs": [],
   "source": [
    "import numpy as np\n",
    "from sympy import*\n",
    "init_printing()"
   ]
  },
  {
   "cell_type": "code",
   "execution_count": 2,
   "id": "98000823",
   "metadata": {},
   "outputs": [],
   "source": [
    "def t_x(a):\n",
    "    # Formulate Denavit Matrix\n",
    "    A =  Matrix([[1, 0, 0, a],\n",
    "                 [0, 1, 0, 0],\n",
    "                 [0, 0, 1, 0],\n",
    "                 [0, 0, 0, 1]])\n",
    "    return A"
   ]
  },
  {
   "cell_type": "code",
   "execution_count": 3,
   "id": "9912b03f",
   "metadata": {},
   "outputs": [],
   "source": [
    "def r_z(theta_1):\n",
    "    A = Matrix([[cos(theta_1), -sin(theta_1), 0, 0], [sin(theta_1), cos(theta_1), 0, 0], [0, 0, 1, 0], [0, 0, 0, 1]])\n",
    "    return A"
   ]
  },
  {
   "cell_type": "code",
   "execution_count": 4,
   "id": "af5debe6",
   "metadata": {},
   "outputs": [],
   "source": [
    "def t_z(d):\n",
    "    A = Matrix([[1, 0, 0, 0], [0, 1, 0, 0], [0, 0, 1, d], [0, 0, 0, 1]])\n",
    "    return A"
   ]
  },
  {
   "cell_type": "code",
   "execution_count": 5,
   "id": "b26d0b27",
   "metadata": {},
   "outputs": [],
   "source": [
    "def r_x(alpha):\n",
    "    A =  Matrix([[1, 0, 0, 0], [0, cos(alpha), -sin(alpha), 0], [0, sin(alpha), cos(alpha), 0], [0, 0, 0, 1]])\n",
    "    return A"
   ]
  },
  {
   "cell_type": "code",
   "execution_count": 6,
   "id": "eeaa734d",
   "metadata": {},
   "outputs": [
    {
     "data": {
      "image/png": "[encoded data removed]",
      "text/latex": [
       "$\\displaystyle \\left[\\begin{matrix}1 & 0 & 0 & a_{0}\\\\0 & 1 & 0 & 0\\\\0 & 0 & 1 & 0\\\\0 & 0 & 0 & 1\\end{matrix}\\right]$"
      ],
      "text/plain": [
       "⎡1  0  0  a₀⎤\n",
       "⎢           ⎥\n",
       "⎢0  1  0  0 ⎥\n",
       "⎢           ⎥\n",
       "⎢0  0  1  0 ⎥\n",
       "⎢           ⎥\n",
       "⎣0  0  0  1 ⎦"
      ]
     },
     "execution_count": 6,
     "metadata": {},
     "output_type": "execute_result"
    }
   ],
   "source": [
    "a_0 = symbols(\"a_0\", real = True)\n",
    "A_0 = t_x(a_0)\n",
    "A_0"
   ]
  },
  {
   "cell_type": "code",
   "execution_count": 7,
   "id": "b60e67b9",
   "metadata": {},
   "outputs": [
    {
     "data": {
      "image/png": "[encoded data removed]",
      "text/latex": [
       "$\\displaystyle \\left[\\begin{matrix}\\cos{\\left(\\theta_{1} \\right)} & - \\sin{\\left(\\theta_{1} \\right)} & 0 & 0\\\\\\sin{\\left(\\theta_{1} \\right)} & \\cos{\\left(\\theta_{1} \\right)} & 0 & 0\\\\0 & 0 & 1 & 0\\\\0 & 0 & 0 & 1\\end{matrix}\\right]$"
      ],
      "text/plain": [
       "⎡cos(θ₁)  -sin(θ₁)  0  0⎤\n",
       "⎢                       ⎥\n",
       "⎢sin(θ₁)  cos(θ₁)   0  0⎥\n",
       "⎢                       ⎥\n",
       "⎢   0        0      1  0⎥\n",
       "⎢                       ⎥\n",
       "⎣   0        0      0  1⎦"
      ]
     },
     "execution_count": 7,
     "metadata": {},
     "output_type": "execute_result"
    }
   ],
   "source": [
    "theta_1 = symbols(\"theta_1\",  real=True)\n",
    "A_1 = r_z(theta_1)\n",
    "A_1"
   ]
  },
  {
   "cell_type": "code",
   "execution_count": 8,
   "id": "0ae67899",
   "metadata": {},
   "outputs": [
    {
     "data": {
      "image/png": "[encoded data removed]",
      "text/latex": [
       "$\\displaystyle \\left[\\begin{matrix}1 & 0 & 0 & a_{1}\\\\0 & 1 & 0 & 0\\\\0 & 0 & 1 & 0\\\\0 & 0 & 0 & 1\\end{matrix}\\right]$"
      ],
      "text/plain": [
       "⎡1  0  0  a₁⎤\n",
       "⎢           ⎥\n",
       "⎢0  1  0  0 ⎥\n",
       "⎢           ⎥\n",
       "⎢0  0  1  0 ⎥\n",
       "⎢           ⎥\n",
       "⎣0  0  0  1 ⎦"
      ]
     },
     "execution_count": 8,
     "metadata": {},
     "output_type": "execute_result"
    }
   ],
   "source": [
    "a_1 = symbols(\"a_1\", real = True)\n",
    "A_2 = t_x(a_1)\n",
    "A_2\n"
   ]
  },
  {
   "cell_type": "code",
   "execution_count": 9,
   "id": "d7f38f77",
   "metadata": {},
   "outputs": [
    {
     "data": {
      "image/png": "[encoded data removed]",
      "text/latex": [
       "$\\displaystyle \\left[\\begin{matrix}1 & 0 & 0 & 0\\\\0 & 1 & 0 & 0\\\\0 & 0 & 1 & d_{1}\\\\0 & 0 & 0 & 1\\end{matrix}\\right]$"
      ],
      "text/plain": [
       "⎡1  0  0  0 ⎤\n",
       "⎢           ⎥\n",
       "⎢0  1  0  0 ⎥\n",
       "⎢           ⎥\n",
       "⎢0  0  1  d₁⎥\n",
       "⎢           ⎥\n",
       "⎣0  0  0  1 ⎦"
      ]
     },
     "execution_count": 9,
     "metadata": {},
     "output_type": "execute_result"
    }
   ],
   "source": [
    "d_1 = symbols(\"d_1\",  real=True)\n",
    "A_3 = t_z(d_1)\n",
    "A_3"
   ]
  },
  {
   "cell_type": "code",
   "execution_count": 10,
   "id": "a46d4ef6",
   "metadata": {},
   "outputs": [
    {
     "data": {
      "image/png": "[encoded data removed]",
      "text/latex": [
       "$\\displaystyle \\left[\\begin{matrix}1 & 0 & 0 & 0\\\\0 & 0 & -1 & 0\\\\0 & 1 & 0 & 0\\\\0 & 0 & 0 & 1\\end{matrix}\\right]$"
      ],
      "text/plain": [
       "⎡1  0  0   0⎤\n",
       "⎢           ⎥\n",
       "⎢0  0  -1  0⎥\n",
       "⎢           ⎥\n",
       "⎢0  1  0   0⎥\n",
       "⎢           ⎥\n",
       "⎣0  0  0   1⎦"
      ]
     },
     "execution_count": 10,
     "metadata": {},
     "output_type": "execute_result"
    }
   ],
   "source": [
    "alpha_1 = pi/2\n",
    "A_4 = r_x(alpha_1)\n",
    "A_4"
   ]
  },
  {
   "cell_type": "code",
   "execution_count": 11,
   "id": "5c49b850",
   "metadata": {},
   "outputs": [
    {
     "data": {
      "image/png": "[encoded data removed]",
      "text/latex": [
       "$\\displaystyle \\left[\\begin{matrix}\\cos{\\left(\\theta_{1} \\right)} & 0 & \\sin{\\left(\\theta_{1} \\right)} & a_{1} \\cos{\\left(\\theta_{1} \\right)}\\\\\\sin{\\left(\\theta_{1} \\right)} & 0 & - \\cos{\\left(\\theta_{1} \\right)} & a_{1} \\sin{\\left(\\theta_{1} \\right)}\\\\0 & 1 & 0 & d_{1}\\\\0 & 0 & 0 & 1\\end{matrix}\\right]$"
      ],
      "text/plain": [
       "⎡cos(θ₁)  0  sin(θ₁)   a₁⋅cos(θ₁)⎤\n",
       "⎢                                ⎥\n",
       "⎢sin(θ₁)  0  -cos(θ₁)  a₁⋅sin(θ₁)⎥\n",
       "⎢                                ⎥\n",
       "⎢   0     1     0          d₁    ⎥\n",
       "⎢                                ⎥\n",
       "⎣   0     0     0          1     ⎦"
      ]
     },
     "execution_count": 11,
     "metadata": {},
     "output_type": "execute_result"
    }
   ],
   "source": [
    "T = simplify(A_1@A_2@A_3@A_4)\n",
    "T"
   ]
  },
  {
   "cell_type": "code",
   "execution_count": 12,
   "id": "89e79348",
   "metadata": {},
   "outputs": [
    {
     "data": {
      "image/png": "[encoded data removed]",
      "text/latex": [
       "$\\displaystyle \\left[\\begin{matrix}- \\sin{\\left(\\theta_{2} \\right)} & - \\cos{\\left(\\theta_{2} \\right)} & 0 & 0\\\\\\cos{\\left(\\theta_{2} \\right)} & - \\sin{\\left(\\theta_{2} \\right)} & 0 & 0\\\\0 & 0 & 1 & 0\\\\0 & 0 & 0 & 1\\end{matrix}\\right]$"
      ],
      "text/plain": [
       "⎡-sin(θ₂)  -cos(θ₂)  0  0⎤\n",
       "⎢                        ⎥\n",
       "⎢cos(θ₂)   -sin(θ₂)  0  0⎥\n",
       "⎢                        ⎥\n",
       "⎢   0         0      1  0⎥\n",
       "⎢                        ⎥\n",
       "⎣   0         0      0  1⎦"
      ]
     },
     "execution_count": 12,
     "metadata": {},
     "output_type": "execute_result"
    }
   ],
   "source": [
    "theta_2 = symbols(\"theta_2\",  real=True)\n",
    "A_5 = r_z(theta_2 + pi/2)\n",
    "A_5"
   ]
  },
  {
   "cell_type": "code",
   "execution_count": 13,
   "id": "42a7cd39",
   "metadata": {},
   "outputs": [
    {
     "data": {
      "image/png": "[encoded data removed]",
      "text/latex": [
       "$\\displaystyle \\left[\\begin{matrix}1 & 0 & 0 & a_{2}\\\\0 & 1 & 0 & 0\\\\0 & 0 & 1 & 0\\\\0 & 0 & 0 & 1\\end{matrix}\\right]$"
      ],
      "text/plain": [
       "⎡1  0  0  a₂⎤\n",
       "⎢           ⎥\n",
       "⎢0  1  0  0 ⎥\n",
       "⎢           ⎥\n",
       "⎢0  0  1  0 ⎥\n",
       "⎢           ⎥\n",
       "⎣0  0  0  1 ⎦"
      ]
     },
     "execution_count": 13,
     "metadata": {},
     "output_type": "execute_result"
    }
   ],
   "source": [
    "a_2 = symbols(\"a_2\", real = True)\n",
    "A_6 = t_x(a_2)\n",
    "A_6"
   ]
  },
  {
   "cell_type": "code",
   "execution_count": 14,
   "id": "4c61bdf0",
   "metadata": {},
   "outputs": [
    {
     "data": {
      "image/png": "[encoded data removed]",
      "text/latex": [
       "$\\displaystyle \\left[\\begin{matrix}\\cos{\\left(\\theta_{3} \\right)} & - \\sin{\\left(\\theta_{3} \\right)} & 0 & 0\\\\\\sin{\\left(\\theta_{3} \\right)} & \\cos{\\left(\\theta_{3} \\right)} & 0 & 0\\\\0 & 0 & 1 & 0\\\\0 & 0 & 0 & 1\\end{matrix}\\right]$"
      ],
      "text/plain": [
       "⎡cos(θ₃)  -sin(θ₃)  0  0⎤\n",
       "⎢                       ⎥\n",
       "⎢sin(θ₃)  cos(θ₃)   0  0⎥\n",
       "⎢                       ⎥\n",
       "⎢   0        0      1  0⎥\n",
       "⎢                       ⎥\n",
       "⎣   0        0      0  1⎦"
      ]
     },
     "execution_count": 14,
     "metadata": {},
     "output_type": "execute_result"
    }
   ],
   "source": [
    "theta_3 = symbols(\"theta_3\",  real=True)\n",
    "A_7 = r_z(theta_3)\n",
    "A_7"
   ]
  },
  {
   "cell_type": "code",
   "execution_count": 15,
   "id": "c9cb3e75",
   "metadata": {},
   "outputs": [
    {
     "data": {
      "image/png": "[encoded data removed]",
      "text/latex": [
       "$\\displaystyle \\left[\\begin{matrix}1 & 0 & 0 & a_{3}\\\\0 & 1 & 0 & 0\\\\0 & 0 & 1 & 0\\\\0 & 0 & 0 & 1\\end{matrix}\\right]$"
      ],
      "text/plain": [
       "⎡1  0  0  a₃⎤\n",
       "⎢           ⎥\n",
       "⎢0  1  0  0 ⎥\n",
       "⎢           ⎥\n",
       "⎢0  0  1  0 ⎥\n",
       "⎢           ⎥\n",
       "⎣0  0  0  1 ⎦"
      ]
     },
     "execution_count": 15,
     "metadata": {},
     "output_type": "execute_result"
    }
   ],
   "source": [
    "a_3 = symbols(\"a_3\", real = True)\n",
    "A_8 = t_x(a_3)\n",
    "A_8"
   ]
  },
  {
   "cell_type": "code",
   "execution_count": 16,
   "id": "bd75a4ee",
   "metadata": {},
   "outputs": [
    {
     "data": {
      "image/png": "[encoded data removed]",
      "text/latex": [
       "$\\displaystyle \\left[\\begin{matrix}\\cos{\\left(\\theta_{4} \\right)} & - \\sin{\\left(\\theta_{4} \\right)} & 0 & 0\\\\\\sin{\\left(\\theta_{4} \\right)} & \\cos{\\left(\\theta_{4} \\right)} & 0 & 0\\\\0 & 0 & 1 & 0\\\\0 & 0 & 0 & 1\\end{matrix}\\right]$"
      ],
      "text/plain": [
       "⎡cos(θ₄)  -sin(θ₄)  0  0⎤\n",
       "⎢                       ⎥\n",
       "⎢sin(θ₄)  cos(θ₄)   0  0⎥\n",
       "⎢                       ⎥\n",
       "⎢   0        0      1  0⎥\n",
       "⎢                       ⎥\n",
       "⎣   0        0      0  1⎦"
      ]
     },
     "execution_count": 16,
     "metadata": {},
     "output_type": "execute_result"
    }
   ],
   "source": [
    "theta_4 = symbols(\"theta_4\",  real=True)\n",
    "A_9 = r_z(theta_4)\n",
    "A_9"
   ]
  },
  {
   "cell_type": "code",
   "execution_count": 17,
   "id": "7db24a5b",
   "metadata": {},
   "outputs": [
    {
     "data": {
      "image/png": "[encoded data removed]",
      "text/latex": [
       "$\\displaystyle \\left[\\begin{matrix}1 & 0 & 0 & a_{4}\\\\0 & 1 & 0 & 0\\\\0 & 0 & 1 & 0\\\\0 & 0 & 0 & 1\\end{matrix}\\right]$"
      ],
      "text/plain": [
       "⎡1  0  0  a₄⎤\n",
       "⎢           ⎥\n",
       "⎢0  1  0  0 ⎥\n",
       "⎢           ⎥\n",
       "⎢0  0  1  0 ⎥\n",
       "⎢           ⎥\n",
       "⎣0  0  0  1 ⎦"
      ]
     },
     "execution_count": 17,
     "metadata": {},
     "output_type": "execute_result"
    }
   ],
   "source": [
    "a_4 = symbols(\"a_4\", real = True)\n",
    "A_10 = t_x(a_4)\n",
    "A_10"
   ]
  },
  {
   "cell_type": "code",
   "execution_count": 18,
   "id": "511f43a9",
   "metadata": {},
   "outputs": [
    {
     "data": {
      "image/png": "[encoded data removed]",
      "text/latex": [
       "$\\displaystyle \\left[\\begin{matrix}- \\sin{\\left(\\theta_{2} + \\theta_{3} + \\theta_{4} \\right)} \\cos{\\left(\\theta_{1} \\right)} & - \\cos{\\left(\\theta_{1} \\right)} \\cos{\\left(\\theta_{2} + \\theta_{3} + \\theta_{4} \\right)} & \\sin{\\left(\\theta_{1} \\right)} & a_{0} + a_{1} \\cos{\\left(\\theta_{1} \\right)} - a_{2} \\sin{\\left(\\theta_{2} \\right)} \\cos{\\left(\\theta_{1} \\right)} - a_{3} \\sin{\\left(\\theta_{2} + \\theta_{3} \\right)} \\cos{\\left(\\theta_{1} \\right)} - a_{4} \\sin{\\left(\\theta_{2} + \\theta_{3} + \\theta_{4} \\right)} \\cos{\\left(\\theta_{1} \\right)}\\\\- \\sin{\\left(\\theta_{1} \\right)} \\sin{\\left(\\theta_{2} + \\theta_{3} + \\theta_{4} \\right)} & - \\sin{\\left(\\theta_{1} \\right)} \\cos{\\left(\\theta_{2} + \\theta_{3} + \\theta_{4} \\right)} & - \\cos{\\left(\\theta_{1} \\right)} & \\left(a_{1} - a_{2} \\sin{\\left(\\theta_{2} \\right)} - a_{3} \\sin{\\left(\\theta_{2} + \\theta_{3} \\right)} - a_{4} \\sin{\\left(\\theta_{2} + \\theta_{3} + \\theta_{4} \\right)}\\right) \\sin{\\left(\\theta_{1} \\right)}\\\\\\cos{\\left(\\theta_{2} + \\theta_{3} + \\theta_{4} \\right)} & - \\sin{\\left(\\theta_{2} + \\theta_{3} + \\theta_{4} \\right)} & 0 & a_{2} \\cos{\\left(\\theta_{2} \\right)} + a_{3} \\cos{\\left(\\theta_{2} + \\theta_{3} \\right)} + a_{4} \\cos{\\left(\\theta_{2} + \\theta_{3} + \\theta_{4} \\right)} + d_{1}\\\\0 & 0 & 0 & 1\\end{matrix}\\right]$"
      ],
      "text/plain": [
       "⎡-sin(θ₂ + θ₃ + θ₄)⋅cos(θ₁)  -cos(θ₁)⋅cos(θ₂ + θ₃ + θ₄)  sin(θ₁)   a₀ + a₁⋅cos\n",
       "⎢                                                                             \n",
       "⎢-sin(θ₁)⋅sin(θ₂ + θ₃ + θ₄)  -sin(θ₁)⋅cos(θ₂ + θ₃ + θ₄)  -cos(θ₁)             \n",
       "⎢                                                                             \n",
       "⎢    cos(θ₂ + θ₃ + θ₄)           -sin(θ₂ + θ₃ + θ₄)         0                 \n",
       "⎢                                                                             \n",
       "⎣            0                           0                  0                 \n",
       "\n",
       "(θ₁) - a₂⋅sin(θ₂)⋅cos(θ₁) - a₃⋅sin(θ₂ + θ₃)⋅cos(θ₁) - a₄⋅sin(θ₂ + θ₃ + θ₄)⋅cos\n",
       "                                                                              \n",
       "  (a₁ - a₂⋅sin(θ₂) - a₃⋅sin(θ₂ + θ₃) - a₄⋅sin(θ₂ + θ₃ + θ₄))⋅sin(θ₁)          \n",
       "                                                                              \n",
       "       a₂⋅cos(θ₂) + a₃⋅cos(θ₂ + θ₃) + a₄⋅cos(θ₂ + θ₃ + θ₄) + d₁               \n",
       "                                                                              \n",
       "                                   1                                          \n",
       "\n",
       "(θ₁)⎤\n",
       "    ⎥\n",
       "    ⎥\n",
       "    ⎥\n",
       "    ⎥\n",
       "    ⎥\n",
       "    ⎦"
      ]
     },
     "execution_count": 18,
     "metadata": {},
     "output_type": "execute_result"
    }
   ],
   "source": [
    "T = simplify(A_0@A_1@A_2@A_3@A_4@A_5@A_6@A_7@A_8@A_9@A_10)\n",
    "T"
   ]
  }
 ],
 "metadata": {
  "kernelspec": {
   "display_name": "Python 3 (ipykernel)",
   "language": "python",
   "name": "python3"
  },
  "language_info": {
   "codemirror_mode": {
    "name": "ipython",
    "version": 3
   },
   "file_extension": ".py",
   "mimetype": "text/x-python",
   "name": "python",
   "nbconvert_exporter": "python",
   "pygments_lexer": "ipython3",
   "version": "3.7.16"
  }
 },
 "nbformat": 4,
 "nbformat_minor": 5
}
