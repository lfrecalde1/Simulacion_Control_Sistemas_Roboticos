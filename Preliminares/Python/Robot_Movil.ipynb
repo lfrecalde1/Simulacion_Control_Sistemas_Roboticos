{
 "cells": [
  {
   "cell_type": "markdown",
   "id": "566fae17",
   "metadata": {},
   "source": [
    "## Importar Librerias"
   ]
  },
  {
   "cell_type": "code",
   "execution_count": 16,
   "id": "14c5c142",
   "metadata": {},
   "outputs": [],
   "source": [
    "\n",
    "import numpy as np\n",
    "from sympy import*\n",
    "init_printing()\n"
   ]
  },
  {
   "cell_type": "markdown",
   "id": "9406c59f",
   "metadata": {},
   "source": [
    "### Declarar variables simbolicas"
   ]
  },
  {
   "cell_type": "code",
   "execution_count": 49,
   "id": "90ee5733",
   "metadata": {},
   "outputs": [],
   "source": [
    "## Variables Simbolicas\n",
    "theta = symbols(\"theta\",  real=True)\n",
    "x = symbols(\"x\",  real=True)\n",
    "y = symbols(\"y\",  real=True)\n",
    "a = symbols(\"a\",  real=True)"
   ]
  },
  {
   "cell_type": "markdown",
   "id": "ccf98fac",
   "metadata": {},
   "source": [
    "### Matriz rotacion de B respecto a I"
   ]
  },
  {
   "cell_type": "code",
   "execution_count": 20,
   "id": "780fd0b3",
   "metadata": {},
   "outputs": [],
   "source": [
    "iRb = Matrix([[cos(theta), -sin(theta)], [sin(theta), cos(theta)]])"
   ]
  },
  {
   "cell_type": "code",
   "execution_count": 21,
   "id": "ba0fd7b6",
   "metadata": {},
   "outputs": [
    {
     "data": {
      "image/png": "[encoded data removed]",
      "text/latex": [
       "$\\displaystyle \\left[\\begin{matrix}\\cos{\\left(\\theta \\right)} & - \\sin{\\left(\\theta \\right)}\\\\\\sin{\\left(\\theta \\right)} & \\cos{\\left(\\theta \\right)}\\end{matrix}\\right]$"
      ],
      "text/plain": [
       "⎡cos(θ)  -sin(θ)⎤\n",
       "⎢               ⎥\n",
       "⎣sin(θ)  cos(θ) ⎦"
      ]
     },
     "execution_count": 21,
     "metadata": {},
     "output_type": "execute_result"
    }
   ],
   "source": [
    "iRb"
   ]
  },
  {
   "cell_type": "markdown",
   "id": "a57821c4",
   "metadata": {},
   "source": [
    "### Desplazamiento de B respecto a I"
   ]
  },
  {
   "cell_type": "code",
   "execution_count": 22,
   "id": "89a40ca8",
   "metadata": {},
   "outputs": [],
   "source": [
    "desplazamiento_ib  = Matrix([[x], [y]])"
   ]
  },
  {
   "cell_type": "code",
   "execution_count": 23,
   "id": "2ecab6bf",
   "metadata": {},
   "outputs": [
    {
     "data": {
      "image/png": "[encoded data removed]",
      "text/latex": [
       "$\\displaystyle \\left[\\begin{matrix}x\\\\y\\end{matrix}\\right]$"
      ],
      "text/plain": [
       "⎡x⎤\n",
       "⎢ ⎥\n",
       "⎣y⎦"
      ]
     },
     "execution_count": 23,
     "metadata": {},
     "output_type": "execute_result"
    }
   ],
   "source": [
    "desplazamiento_ib"
   ]
  },
  {
   "cell_type": "markdown",
   "id": "2b781490",
   "metadata": {},
   "source": [
    "### Matriz homogenea de B respecto a V"
   ]
  },
  {
   "cell_type": "code",
   "execution_count": 44,
   "id": "b83e4b86",
   "metadata": {},
   "outputs": [],
   "source": [
    "iHb = BlockMatrix([[iRb, desplazamiento_ib], [zeros(1,2), ones(1,1)]]).as_explicit()"
   ]
  },
  {
   "cell_type": "code",
   "execution_count": 45,
   "id": "0529e4c5",
   "metadata": {},
   "outputs": [
    {
     "data": {
      "image/png": "[encoded data removed]",
      "text/latex": [
       "$\\displaystyle \\left[\\begin{matrix}\\cos{\\left(\\theta \\right)} & - \\sin{\\left(\\theta \\right)} & x\\\\\\sin{\\left(\\theta \\right)} & \\cos{\\left(\\theta \\right)} & y\\\\0 & 0 & 1\\end{matrix}\\right]$"
      ],
      "text/plain": [
       "⎡cos(θ)  -sin(θ)  x⎤\n",
       "⎢                  ⎥\n",
       "⎢sin(θ)  cos(θ)   y⎥\n",
       "⎢                  ⎥\n",
       "⎣  0        0     1⎦"
      ]
     },
     "execution_count": 45,
     "metadata": {},
     "output_type": "execute_result"
    }
   ],
   "source": [
    "iHb"
   ]
  },
  {
   "cell_type": "markdown",
   "id": "ee1093e2",
   "metadata": {},
   "source": [
    "### Matriz rotacion de C respecto a B"
   ]
  },
  {
   "cell_type": "code",
   "execution_count": 46,
   "id": "a617cf41",
   "metadata": {},
   "outputs": [],
   "source": [
    "bRc = eye(2, 2)"
   ]
  },
  {
   "cell_type": "code",
   "execution_count": 47,
   "id": "ae853a16",
   "metadata": {},
   "outputs": [
    {
     "data": {
      "image/png": "[encoded data removed]",
      "text/latex": [
       "$\\displaystyle \\left[\\begin{matrix}1 & 0\\\\0 & 1\\end{matrix}\\right]$"
      ],
      "text/plain": [
       "⎡1  0⎤\n",
       "⎢    ⎥\n",
       "⎣0  1⎦"
      ]
     },
     "execution_count": 47,
     "metadata": {},
     "output_type": "execute_result"
    }
   ],
   "source": [
    "bRc"
   ]
  },
  {
   "cell_type": "markdown",
   "id": "a21afca5",
   "metadata": {},
   "source": [
    "### Desplazamiento de C respecto a B"
   ]
  },
  {
   "cell_type": "code",
   "execution_count": 51,
   "id": "27be0fae",
   "metadata": {},
   "outputs": [],
   "source": [
    "desplazamiento_bc  = Matrix([[a], [0]])"
   ]
  },
  {
   "cell_type": "code",
   "execution_count": 52,
   "id": "2fa377f2",
   "metadata": {},
   "outputs": [
    {
     "data": {
      "image/png": "[encoded data removed]",
      "text/latex": [
       "$\\displaystyle \\left[\\begin{matrix}a\\\\0\\end{matrix}\\right]$"
      ],
      "text/plain": [
       "⎡a⎤\n",
       "⎢ ⎥\n",
       "⎣0⎦"
      ]
     },
     "execution_count": 52,
     "metadata": {},
     "output_type": "execute_result"
    }
   ],
   "source": [
    "desplazamiento_bc"
   ]
  },
  {
   "cell_type": "markdown",
   "id": "540f5d92",
   "metadata": {},
   "source": [
    "### Matriz homogenea de B respecto a V"
   ]
  },
  {
   "cell_type": "code",
   "execution_count": 53,
   "id": "db060d0b",
   "metadata": {},
   "outputs": [],
   "source": [
    "bHc = BlockMatrix([[bRc, desplazamiento_bc], [zeros(1,2), ones(1,1)]]).as_explicit()"
   ]
  },
  {
   "cell_type": "code",
   "execution_count": 54,
   "id": "43e31932",
   "metadata": {},
   "outputs": [
    {
     "data": {
      "image/png": "[encoded data removed]",
      "text/latex": [
       "$\\displaystyle \\left[\\begin{matrix}1 & 0 & a\\\\0 & 1 & 0\\\\0 & 0 & 1\\end{matrix}\\right]$"
      ],
      "text/plain": [
       "⎡1  0  a⎤\n",
       "⎢       ⎥\n",
       "⎢0  1  0⎥\n",
       "⎢       ⎥\n",
       "⎣0  0  1⎦"
      ]
     },
     "execution_count": 54,
     "metadata": {},
     "output_type": "execute_result"
    }
   ],
   "source": [
    "bHc"
   ]
  },
  {
   "cell_type": "code",
   "execution_count": null,
   "id": "a07ab792",
   "metadata": {},
   "outputs": [],
   "source": []
  }
 ],
 "metadata": {
  "kernelspec": {
   "display_name": "Python 3 (ipykernel)",
   "language": "python",
   "name": "python3"
  },
  "language_info": {
   "codemirror_mode": {
    "name": "ipython",
    "version": 3
   },
   "file_extension": ".py",
   "mimetype": "text/x-python",
   "name": "python",
   "nbconvert_exporter": "python",
   "pygments_lexer": "ipython3",
   "version": "3.7.16"
  }
 },
 "nbformat": 4,
 "nbformat_minor": 5
}
