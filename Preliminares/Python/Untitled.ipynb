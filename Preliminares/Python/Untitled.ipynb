{
 "cells": [
  {
   "cell_type": "code",
   "execution_count": 1,
   "id": "3ea381c0",
   "metadata": {},
   "outputs": [],
   "source": [
    "import numpy as np\n",
    "from sympy import*\n",
    "init_printing()"
   ]
  },
  {
   "cell_type": "code",
   "execution_count": 2,
   "id": "1f2127c8",
   "metadata": {},
   "outputs": [],
   "source": [
    "## Variables Simbolicas\n",
    "u_1 = symbols(\"u_1\",  real=True)\n",
    "v_1 = symbols(\"v_1\",  real=True)\n",
    "u_2 = symbols(\"u_2\",  real=True)\n",
    "v_2 = symbols(\"v_2\",  real=True)\n",
    "theta_1 = symbols(\"theta_1\",  real=True)\n"
   ]
  },
  {
   "cell_type": "code",
   "execution_count": 3,
   "id": "5ffc34f6",
   "metadata": {},
   "outputs": [],
   "source": [
    "r = Matrix([sin(theta_1)*(u_1 - ((u_2 - u_1)/(v_2 - v_1))*v_1)])"
   ]
  },
  {
   "cell_type": "code",
   "execution_count": 4,
   "id": "bb866982",
   "metadata": {},
   "outputs": [],
   "source": [
    "r_aux = r"
   ]
  },
  {
   "cell_type": "code",
   "execution_count": 5,
   "id": "fd13116f",
   "metadata": {},
   "outputs": [],
   "source": [
    "r_dot = r.jacobian([u_1, v_1, u_2, v_2, theta_1])"
   ]
  },
  {
   "cell_type": "code",
   "execution_count": 6,
   "id": "0d13e653",
   "metadata": {},
   "outputs": [
    {
     "data": {
      "image/png": "[encoded data removed]",
      "text/latex": [
       "$\\displaystyle \\left[\\begin{matrix}- \\frac{v_{2} \\sin{\\left(\\theta_{1} \\right)}}{v_{1} - v_{2}} & \\frac{v_{2} \\left(u_{1} - u_{2}\\right) \\sin{\\left(\\theta_{1} \\right)}}{\\left(v_{1} - v_{2}\\right)^{2}} & \\frac{v_{1} \\sin{\\left(\\theta_{1} \\right)}}{v_{1} - v_{2}} & - \\frac{v_{1} \\left(u_{1} - u_{2}\\right) \\sin{\\left(\\theta_{1} \\right)}}{\\left(v_{1} - v_{2}\\right)^{2}} & \\frac{\\left(- u_{1} v_{2} + u_{2} v_{1}\\right) \\cos{\\left(\\theta_{1} \\right)}}{v_{1} - v_{2}}\\end{matrix}\\right]$"
      ],
      "text/plain": [
       "⎡-v₂⋅sin(θ₁)   v₂⋅(u₁ - u₂)⋅sin(θ₁)  v₁⋅sin(θ₁)  -v₁⋅(u₁ - u₂)⋅sin(θ₁)   (-u₁⋅\n",
       "⎢────────────  ────────────────────  ──────────  ──────────────────────  ─────\n",
       "⎢  v₁ - v₂                   2        v₁ - v₂                   2             \n",
       "⎣                   (v₁ - v₂)                          (v₁ - v₂)              \n",
       "\n",
       "v₂ + u₂⋅v₁)⋅cos(θ₁)⎤\n",
       "───────────────────⎥\n",
       "   v₁ - v₂         ⎥\n",
       "                   ⎦"
      ]
     },
     "execution_count": 6,
     "metadata": {},
     "output_type": "execute_result"
    }
   ],
   "source": [
    "r_dot_simple = simplify(r_dot)\n",
    "r_dot_simple"
   ]
  },
  {
   "cell_type": "code",
   "execution_count": 7,
   "id": "cdf8101a",
   "metadata": {},
   "outputs": [
    {
     "name": "stdout",
     "output_type": "stream",
     "text": [
      "\\frac{\\left(- u_{1} v_{2} + u_{2} v_{1}\\right) \\cos{\\left(\\theta_{1} \\right)}}{v_{1} - v_{2}}\n"
     ]
    }
   ],
   "source": [
    "print_latex(r_dot_simple[4])"
   ]
  },
  {
   "cell_type": "code",
   "execution_count": 8,
   "id": "f7c106fb",
   "metadata": {},
   "outputs": [],
   "source": [
    "theta_aux = Matrix([atan(-((v_2 - v_1)/(u_2 - u_1)))])"
   ]
  },
  {
   "cell_type": "code",
   "execution_count": 9,
   "id": "11615023",
   "metadata": {},
   "outputs": [
    {
     "data": {
      "image/png": "[encoded data removed]",
      "text/latex": [
       "$\\displaystyle \\left[\\begin{matrix}- \\operatorname{atan}{\\left(\\frac{- v_{1} + v_{2}}{- u_{1} + u_{2}} \\right)}\\end{matrix}\\right]$"
      ],
      "text/plain": [
       "⎡     ⎛-v₁ + v₂⎞⎤\n",
       "⎢-atan⎜────────⎟⎥\n",
       "⎣     ⎝-u₁ + u₂⎠⎦"
      ]
     },
     "execution_count": 9,
     "metadata": {},
     "output_type": "execute_result"
    }
   ],
   "source": [
    "theta_aux"
   ]
  },
  {
   "cell_type": "code",
   "execution_count": 10,
   "id": "7eed0732",
   "metadata": {},
   "outputs": [],
   "source": [
    "theta_p = theta_aux.jacobian([u_1, v_1, u_2, v_2])"
   ]
  },
  {
   "cell_type": "code",
   "execution_count": 11,
   "id": "0fe8fa0e",
   "metadata": {},
   "outputs": [
    {
     "data": {
      "image/png": "[encoded data removed]",
      "text/latex": [
       "$\\displaystyle \\left[\\begin{matrix}\\frac{v_{1} - v_{2}}{\\left(u_{1} - u_{2}\\right)^{2} + \\left(v_{1} - v_{2}\\right)^{2}} & \\frac{- u_{1} + u_{2}}{\\left(u_{1} - u_{2}\\right)^{2} + \\left(v_{1} - v_{2}\\right)^{2}} & \\frac{- v_{1} + v_{2}}{\\left(u_{1} - u_{2}\\right)^{2} + \\left(v_{1} - v_{2}\\right)^{2}} & \\frac{u_{1} - u_{2}}{\\left(u_{1} - u_{2}\\right)^{2} + \\left(v_{1} - v_{2}\\right)^{2}}\\end{matrix}\\right]$"
      ],
      "text/plain": [
       "⎡        v₁ - v₂                  -u₁ + u₂                 -v₁ + v₂           \n",
       "⎢───────────────────────  ───────────────────────  ───────────────────────  ──\n",
       "⎢         2            2           2            2           2            2    \n",
       "⎣(u₁ - u₂)  + (v₁ - v₂)   (u₁ - u₂)  + (v₁ - v₂)   (u₁ - u₂)  + (v₁ - v₂)   (u\n",
       "\n",
       "      u₁ - u₂        ⎤\n",
       "─────────────────────⎥\n",
       "       2            2⎥\n",
       "₁ - u₂)  + (v₁ - v₂) ⎦"
      ]
     },
     "execution_count": 11,
     "metadata": {},
     "output_type": "execute_result"
    }
   ],
   "source": [
    "theta_p_simple = simplify(theta_p)\n",
    "theta_p_simple"
   ]
  },
  {
   "cell_type": "code",
   "execution_count": 13,
   "id": "8d0e45b2",
   "metadata": {},
   "outputs": [
    {
     "name": "stdout",
     "output_type": "stream",
     "text": [
      "\\frac{u_{1} - u_{2}}{\\left(u_{1} - u_{2}\\right)^{2} + \\left(v_{1} - v_{2}\\right)^{2}}\n"
     ]
    }
   ],
   "source": [
    "print_latex(theta_p_simple[3])"
   ]
  },
  {
   "cell_type": "code",
   "execution_count": null,
   "id": "320d7d5e",
   "metadata": {},
   "outputs": [],
   "source": []
  }
 ],
 "metadata": {
  "kernelspec": {
   "display_name": "Python 3 (ipykernel)",
   "language": "python",
   "name": "python3"
  },
  "language_info": {
   "codemirror_mode": {
    "name": "ipython",
    "version": 3
   },
   "file_extension": ".py",
   "mimetype": "text/x-python",
   "name": "python",
   "nbconvert_exporter": "python",
   "pygments_lexer": "ipython3",
   "version": "3.7.16"
  }
 },
 "nbformat": 4,
 "nbformat_minor": 5
}
