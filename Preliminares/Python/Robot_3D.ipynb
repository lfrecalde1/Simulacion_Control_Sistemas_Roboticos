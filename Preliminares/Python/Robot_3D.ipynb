{
 "cells": [
  {
   "cell_type": "code",
   "execution_count": 1,
   "id": "64cd5405",
   "metadata": {},
   "outputs": [],
   "source": [
    "import numpy as np\n",
    "from sympy import*\n",
    "init_printing()"
   ]
  },
  {
   "cell_type": "code",
   "execution_count": 2,
   "id": "9b2cc4fb",
   "metadata": {},
   "outputs": [],
   "source": [
    "## Variables Simbolicas\n",
    "theta_1 = symbols(\"theta_1\",  real=True)\n",
    "theta_2 = symbols(\"theta_2\",  real=True)\n",
    "theta_3 = symbols(\"theta_3\",  real=True)\n",
    "alpha = symbols(\"alpha\",  real=True)\n",
    "\n",
    "l_1 = symbols(\"l_1\",  real=True)\n",
    "l_2 = symbols(\"l_2\",  real=True)\n",
    "l_3 = symbols(\"l_3\",  real=True)"
   ]
  },
  {
   "cell_type": "code",
   "execution_count": 3,
   "id": "f09d219a",
   "metadata": {},
   "outputs": [],
   "source": [
    "_0H_1 = Matrix([[cos(theta_1), -sin(theta_1), 0, 0], [sin(theta_1), cos(theta_1), 0, 0], [0, 0, 1, 0], [0, 0, 0, 1]])\n"
   ]
  },
  {
   "cell_type": "code",
   "execution_count": 4,
   "id": "e3db3531",
   "metadata": {},
   "outputs": [
    {
     "data": {
      "image/png": "[encoded data removed]",
      "text/latex": [
       "$\\displaystyle \\left[\\begin{matrix}\\cos{\\left(\\theta_{1} \\right)} & - \\sin{\\left(\\theta_{1} \\right)} & 0 & 0\\\\\\sin{\\left(\\theta_{1} \\right)} & \\cos{\\left(\\theta_{1} \\right)} & 0 & 0\\\\0 & 0 & 1 & 0\\\\0 & 0 & 0 & 1\\end{matrix}\\right]$"
      ],
      "text/plain": [
       "⎡cos(θ₁)  -sin(θ₁)  0  0⎤\n",
       "⎢                       ⎥\n",
       "⎢sin(θ₁)  cos(θ₁)   0  0⎥\n",
       "⎢                       ⎥\n",
       "⎢   0        0      1  0⎥\n",
       "⎢                       ⎥\n",
       "⎣   0        0      0  1⎦"
      ]
     },
     "execution_count": 4,
     "metadata": {},
     "output_type": "execute_result"
    }
   ],
   "source": [
    "_0H_1\n"
   ]
  },
  {
   "cell_type": "code",
   "execution_count": 5,
   "id": "d15e78ec",
   "metadata": {},
   "outputs": [],
   "source": [
    "_1H2 = Matrix([[1, 0, 0, 0], [0, 1, 0, 0], [0, 0, 1, l_1], [0, 0, 0, 1]])\n"
   ]
  },
  {
   "cell_type": "code",
   "execution_count": 6,
   "id": "e3cdcc77",
   "metadata": {},
   "outputs": [
    {
     "data": {
      "image/png": "[encoded data removed]",
      "text/latex": [
       "$\\displaystyle \\left[\\begin{matrix}1 & 0 & 0 & 0\\\\0 & 1 & 0 & 0\\\\0 & 0 & 1 & l_{1}\\\\0 & 0 & 0 & 1\\end{matrix}\\right]$"
      ],
      "text/plain": [
       "⎡1  0  0  0 ⎤\n",
       "⎢           ⎥\n",
       "⎢0  1  0  0 ⎥\n",
       "⎢           ⎥\n",
       "⎢0  0  1  l₁⎥\n",
       "⎢           ⎥\n",
       "⎣0  0  0  1 ⎦"
      ]
     },
     "execution_count": 6,
     "metadata": {},
     "output_type": "execute_result"
    }
   ],
   "source": [
    "_1H2"
   ]
  },
  {
   "cell_type": "code",
   "execution_count": 7,
   "id": "da4ab434",
   "metadata": {},
   "outputs": [],
   "source": [
    "_2H3 = Matrix([[1, 0, 0, 0], [0, cos(alpha), -sin(alpha), 0], [0, sin(alpha), cos(alpha), 0], [0, 0, 0, 1]])"
   ]
  },
  {
   "cell_type": "code",
   "execution_count": 8,
   "id": "6b4d4ed6",
   "metadata": {},
   "outputs": [
    {
     "data": {
      "image/png": "[encoded data removed]",
      "text/latex": [
       "$\\displaystyle \\left[\\begin{matrix}1 & 0 & 0 & 0\\\\0 & \\cos{\\left(\\alpha \\right)} & - \\sin{\\left(\\alpha \\right)} & 0\\\\0 & \\sin{\\left(\\alpha \\right)} & \\cos{\\left(\\alpha \\right)} & 0\\\\0 & 0 & 0 & 1\\end{matrix}\\right]$"
      ],
      "text/plain": [
       "⎡1    0        0     0⎤\n",
       "⎢                     ⎥\n",
       "⎢0  cos(α)  -sin(α)  0⎥\n",
       "⎢                     ⎥\n",
       "⎢0  sin(α)  cos(α)   0⎥\n",
       "⎢                     ⎥\n",
       "⎣0    0        0     1⎦"
      ]
     },
     "execution_count": 8,
     "metadata": {},
     "output_type": "execute_result"
    }
   ],
   "source": [
    "_2H3"
   ]
  },
  {
   "cell_type": "code",
   "execution_count": 9,
   "id": "f71273a3",
   "metadata": {},
   "outputs": [],
   "source": [
    "_2H3 = _2H3.subs(alpha, pi/2)"
   ]
  },
  {
   "cell_type": "code",
   "execution_count": 10,
   "id": "c591d45b",
   "metadata": {},
   "outputs": [
    {
     "data": {
      "image/png": "[encoded data removed]",
      "text/latex": [
       "$\\displaystyle \\left[\\begin{matrix}1 & 0 & 0 & 0\\\\0 & 0 & -1 & 0\\\\0 & 1 & 0 & 0\\\\0 & 0 & 0 & 1\\end{matrix}\\right]$"
      ],
      "text/plain": [
       "⎡1  0  0   0⎤\n",
       "⎢           ⎥\n",
       "⎢0  0  -1  0⎥\n",
       "⎢           ⎥\n",
       "⎢0  1  0   0⎥\n",
       "⎢           ⎥\n",
       "⎣0  0  0   1⎦"
      ]
     },
     "execution_count": 10,
     "metadata": {},
     "output_type": "execute_result"
    }
   ],
   "source": [
    "_2H3"
   ]
  },
  {
   "cell_type": "code",
   "execution_count": 11,
   "id": "48da4464",
   "metadata": {},
   "outputs": [],
   "source": [
    "_3H4 = Matrix([[cos(theta_2), -sin(theta_2), 0, 0], [sin(theta_2), cos(theta_2), 0, 0], [0, 0, 1, 0], [0, 0, 0, 1]])\n"
   ]
  },
  {
   "cell_type": "code",
   "execution_count": 12,
   "id": "75bb8a7b",
   "metadata": {},
   "outputs": [
    {
     "data": {
      "image/png": "[encoded data removed]",
      "text/latex": [
       "$\\displaystyle \\left[\\begin{matrix}\\cos{\\left(\\theta_{2} \\right)} & - \\sin{\\left(\\theta_{2} \\right)} & 0 & 0\\\\\\sin{\\left(\\theta_{2} \\right)} & \\cos{\\left(\\theta_{2} \\right)} & 0 & 0\\\\0 & 0 & 1 & 0\\\\0 & 0 & 0 & 1\\end{matrix}\\right]$"
      ],
      "text/plain": [
       "⎡cos(θ₂)  -sin(θ₂)  0  0⎤\n",
       "⎢                       ⎥\n",
       "⎢sin(θ₂)  cos(θ₂)   0  0⎥\n",
       "⎢                       ⎥\n",
       "⎢   0        0      1  0⎥\n",
       "⎢                       ⎥\n",
       "⎣   0        0      0  1⎦"
      ]
     },
     "execution_count": 12,
     "metadata": {},
     "output_type": "execute_result"
    }
   ],
   "source": [
    "_3H4"
   ]
  },
  {
   "cell_type": "code",
   "execution_count": 13,
   "id": "b8142302",
   "metadata": {},
   "outputs": [],
   "source": [
    "_4H5 = Matrix([[1, 0, 0, l_2], [0, 1, 0, 0], [0, 0, 1, 0], [0, 0, 0, 1]])\n"
   ]
  },
  {
   "cell_type": "code",
   "execution_count": 14,
   "id": "162a2c2e",
   "metadata": {},
   "outputs": [
    {
     "data": {
      "image/png": "[encoded data removed]",
      "text/latex": [
       "$\\displaystyle \\left[\\begin{matrix}1 & 0 & 0 & l_{2}\\\\0 & 1 & 0 & 0\\\\0 & 0 & 1 & 0\\\\0 & 0 & 0 & 1\\end{matrix}\\right]$"
      ],
      "text/plain": [
       "⎡1  0  0  l₂⎤\n",
       "⎢           ⎥\n",
       "⎢0  1  0  0 ⎥\n",
       "⎢           ⎥\n",
       "⎢0  0  1  0 ⎥\n",
       "⎢           ⎥\n",
       "⎣0  0  0  1 ⎦"
      ]
     },
     "execution_count": 14,
     "metadata": {},
     "output_type": "execute_result"
    }
   ],
   "source": [
    "_4H5"
   ]
  },
  {
   "cell_type": "code",
   "execution_count": 15,
   "id": "2509ec7e",
   "metadata": {},
   "outputs": [],
   "source": [
    "_5H6 = Matrix([[cos(theta_3), -sin(theta_3), 0, 0], [sin(theta_3), cos(theta_3), 0, 0], [0, 0, 1, 0], [0, 0, 0, 1]])\n"
   ]
  },
  {
   "cell_type": "code",
   "execution_count": 16,
   "id": "2ef1c229",
   "metadata": {},
   "outputs": [
    {
     "data": {
      "image/png": "[encoded data removed]",
      "text/latex": [
       "$\\displaystyle \\left[\\begin{matrix}\\cos{\\left(\\theta_{3} \\right)} & - \\sin{\\left(\\theta_{3} \\right)} & 0 & 0\\\\\\sin{\\left(\\theta_{3} \\right)} & \\cos{\\left(\\theta_{3} \\right)} & 0 & 0\\\\0 & 0 & 1 & 0\\\\0 & 0 & 0 & 1\\end{matrix}\\right]$"
      ],
      "text/plain": [
       "⎡cos(θ₃)  -sin(θ₃)  0  0⎤\n",
       "⎢                       ⎥\n",
       "⎢sin(θ₃)  cos(θ₃)   0  0⎥\n",
       "⎢                       ⎥\n",
       "⎢   0        0      1  0⎥\n",
       "⎢                       ⎥\n",
       "⎣   0        0      0  1⎦"
      ]
     },
     "execution_count": 16,
     "metadata": {},
     "output_type": "execute_result"
    }
   ],
   "source": [
    "_5H6"
   ]
  },
  {
   "cell_type": "code",
   "execution_count": 17,
   "id": "421b9c6e",
   "metadata": {},
   "outputs": [],
   "source": [
    "_6H7 = Matrix([[1, 0, 0, l_3], [0, 1, 0, 0], [0, 0, 1, 0], [0, 0, 0, 1]])"
   ]
  },
  {
   "cell_type": "code",
   "execution_count": 18,
   "id": "00f6459b",
   "metadata": {},
   "outputs": [],
   "source": [
    "H = simplify(_0H_1@_1H2@_2H3@_3H4@_4H5@_5H6@_6H7)"
   ]
  },
  {
   "cell_type": "code",
   "execution_count": 19,
   "id": "e0e1cde1",
   "metadata": {},
   "outputs": [
    {
     "data": {
      "image/png": "[encoded data removed]",
      "text/latex": [
       "$\\displaystyle \\left[\\begin{matrix}\\cos{\\left(\\theta_{1} \\right)} \\cos{\\left(\\theta_{2} + \\theta_{3} \\right)} & - \\sin{\\left(\\theta_{2} + \\theta_{3} \\right)} \\cos{\\left(\\theta_{1} \\right)} & \\sin{\\left(\\theta_{1} \\right)} & \\left(l_{2} \\cos{\\left(\\theta_{2} \\right)} + l_{3} \\cos{\\left(\\theta_{2} + \\theta_{3} \\right)}\\right) \\cos{\\left(\\theta_{1} \\right)}\\\\\\sin{\\left(\\theta_{1} \\right)} \\cos{\\left(\\theta_{2} + \\theta_{3} \\right)} & - \\sin{\\left(\\theta_{1} \\right)} \\sin{\\left(\\theta_{2} + \\theta_{3} \\right)} & - \\cos{\\left(\\theta_{1} \\right)} & \\left(l_{2} \\cos{\\left(\\theta_{2} \\right)} + l_{3} \\cos{\\left(\\theta_{2} + \\theta_{3} \\right)}\\right) \\sin{\\left(\\theta_{1} \\right)}\\\\\\sin{\\left(\\theta_{2} + \\theta_{3} \\right)} & \\cos{\\left(\\theta_{2} + \\theta_{3} \\right)} & 0 & l_{1} + l_{2} \\sin{\\left(\\theta_{2} \\right)} + l_{3} \\sin{\\left(\\theta_{2} + \\theta_{3} \\right)}\\\\0 & 0 & 0 & 1\\end{matrix}\\right]$"
      ],
      "text/plain": [
       "⎡cos(θ₁)⋅cos(θ₂ + θ₃)  -sin(θ₂ + θ₃)⋅cos(θ₁)  sin(θ₁)   (l₂⋅cos(θ₂) + l₃⋅cos(θ\n",
       "⎢                                                                             \n",
       "⎢sin(θ₁)⋅cos(θ₂ + θ₃)  -sin(θ₁)⋅sin(θ₂ + θ₃)  -cos(θ₁)  (l₂⋅cos(θ₂) + l₃⋅cos(θ\n",
       "⎢                                                                             \n",
       "⎢    sin(θ₂ + θ₃)          cos(θ₂ + θ₃)          0        l₁ + l₂⋅sin(θ₂) + l₃\n",
       "⎢                                                                             \n",
       "⎣         0                      0               0                        1   \n",
       "\n",
       "₂ + θ₃))⋅cos(θ₁)⎤\n",
       "                ⎥\n",
       "₂ + θ₃))⋅sin(θ₁)⎥\n",
       "                ⎥\n",
       "⋅sin(θ₂ + θ₃)   ⎥\n",
       "                ⎥\n",
       "                ⎦"
      ]
     },
     "execution_count": 19,
     "metadata": {},
     "output_type": "execute_result"
    }
   ],
   "source": [
    "H"
   ]
  },
  {
   "cell_type": "code",
   "execution_count": null,
   "id": "14c373dd",
   "metadata": {},
   "outputs": [],
   "source": []
  },
  {
   "cell_type": "code",
   "execution_count": 20,
   "id": "4f198ace",
   "metadata": {},
   "outputs": [],
   "source": [
    "P = H[0:3, 3]"
   ]
  },
  {
   "cell_type": "code",
   "execution_count": 21,
   "id": "5f8f9d8f",
   "metadata": {},
   "outputs": [
    {
     "data": {
      "image/png": "[encoded data removed]",
      "text/latex": [
       "$\\displaystyle \\left[\\begin{matrix}\\left(l_{2} \\cos{\\left(\\theta_{2} \\right)} + l_{3} \\cos{\\left(\\theta_{2} + \\theta_{3} \\right)}\\right) \\cos{\\left(\\theta_{1} \\right)}\\\\\\left(l_{2} \\cos{\\left(\\theta_{2} \\right)} + l_{3} \\cos{\\left(\\theta_{2} + \\theta_{3} \\right)}\\right) \\sin{\\left(\\theta_{1} \\right)}\\\\l_{1} + l_{2} \\sin{\\left(\\theta_{2} \\right)} + l_{3} \\sin{\\left(\\theta_{2} + \\theta_{3} \\right)}\\end{matrix}\\right]$"
      ],
      "text/plain": [
       "⎡(l₂⋅cos(θ₂) + l₃⋅cos(θ₂ + θ₃))⋅cos(θ₁)⎤\n",
       "⎢                                      ⎥\n",
       "⎢(l₂⋅cos(θ₂) + l₃⋅cos(θ₂ + θ₃))⋅sin(θ₁)⎥\n",
       "⎢                                      ⎥\n",
       "⎣  l₁ + l₂⋅sin(θ₂) + l₃⋅sin(θ₂ + θ₃)   ⎦"
      ]
     },
     "execution_count": 21,
     "metadata": {},
     "output_type": "execute_result"
    }
   ],
   "source": [
    "P"
   ]
  },
  {
   "cell_type": "code",
   "execution_count": null,
   "id": "c084d8a1",
   "metadata": {},
   "outputs": [],
   "source": []
  },
  {
   "cell_type": "code",
   "execution_count": 22,
   "id": "eb8451af",
   "metadata": {},
   "outputs": [],
   "source": [
    "R = H[0:3, 0:3]"
   ]
  },
  {
   "cell_type": "code",
   "execution_count": 23,
   "id": "639761ca",
   "metadata": {},
   "outputs": [
    {
     "data": {
      "image/png": "[encoded data removed]",
      "text/latex": [
       "$\\displaystyle \\left[\\begin{matrix}\\cos{\\left(\\theta_{1} \\right)} \\cos{\\left(\\theta_{2} + \\theta_{3} \\right)} & - \\sin{\\left(\\theta_{2} + \\theta_{3} \\right)} \\cos{\\left(\\theta_{1} \\right)} & \\sin{\\left(\\theta_{1} \\right)}\\\\\\sin{\\left(\\theta_{1} \\right)} \\cos{\\left(\\theta_{2} + \\theta_{3} \\right)} & - \\sin{\\left(\\theta_{1} \\right)} \\sin{\\left(\\theta_{2} + \\theta_{3} \\right)} & - \\cos{\\left(\\theta_{1} \\right)}\\\\\\sin{\\left(\\theta_{2} + \\theta_{3} \\right)} & \\cos{\\left(\\theta_{2} + \\theta_{3} \\right)} & 0\\end{matrix}\\right]$"
      ],
      "text/plain": [
       "⎡cos(θ₁)⋅cos(θ₂ + θ₃)  -sin(θ₂ + θ₃)⋅cos(θ₁)  sin(θ₁) ⎤\n",
       "⎢                                                     ⎥\n",
       "⎢sin(θ₁)⋅cos(θ₂ + θ₃)  -sin(θ₁)⋅sin(θ₂ + θ₃)  -cos(θ₁)⎥\n",
       "⎢                                                     ⎥\n",
       "⎣    sin(θ₂ + θ₃)          cos(θ₂ + θ₃)          0    ⎦"
      ]
     },
     "execution_count": 23,
     "metadata": {},
     "output_type": "execute_result"
    }
   ],
   "source": [
    "R"
   ]
  },
  {
   "cell_type": "code",
   "execution_count": null,
   "id": "739ad60b",
   "metadata": {},
   "outputs": [],
   "source": []
  },
  {
   "cell_type": "code",
   "execution_count": null,
   "id": "c1c6d7b3",
   "metadata": {},
   "outputs": [],
   "source": []
  }
 ],
 "metadata": {
  "kernelspec": {
   "display_name": "Python 3 (ipykernel)",
   "language": "python",
   "name": "python3"
  },
  "language_info": {
   "codemirror_mode": {
    "name": "ipython",
    "version": 3
   },
   "file_extension": ".py",
   "mimetype": "text/x-python",
   "name": "python",
   "nbconvert_exporter": "python",
   "pygments_lexer": "ipython3",
   "version": "3.7.16"
  }
 },
 "nbformat": 4,
 "nbformat_minor": 5
}
