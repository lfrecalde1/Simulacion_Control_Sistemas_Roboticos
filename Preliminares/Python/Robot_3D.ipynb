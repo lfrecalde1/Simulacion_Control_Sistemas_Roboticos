{
 "cells": [
  {
   "cell_type": "code",
   "execution_count": 1,
   "id": "0a559333",
   "metadata": {},
   "outputs": [],
   "source": [
    "import numpy as np\n",
    "from sympy import*\n",
    "init_printing()"
   ]
  },
  {
   "cell_type": "code",
   "execution_count": null,
   "id": "b81c238f",
   "metadata": {},
   "outputs": [],
   "source": [
    "## Variables Simbolicas\n",
    "theta_1 = symbols(\"theta_1\",  real=True)\n",
    "theta_2 = symbols(\"theta_2\",  real=True)\n",
    "theta_3 = symbols(\"theta_3\",  real=True)\n",
    "alpha = symbols(\"alpha\",  real=True)\n",
    "\n",
    "l_1 = symbols(\"l_1\",  real=True)\n",
    "l_2 = symbols(\"l_2\",  real=True)\n",
    "l_3 = symbols(\"l_3\",  real=True)"
   ]
  },
  {
   "cell_type": "code",
   "execution_count": null,
   "id": "b87f1079",
   "metadata": {},
   "outputs": [],
   "source": [
    "_0H_1 = Matrix([[cos(theta_1), -sin(theta_1), 0, 0], [sin(theta_1), cos(theta_1), 0, 0], [0, 0, 1, 0], [0, 0, 0, 1]])\n"
   ]
  },
  {
   "cell_type": "code",
   "execution_count": null,
   "id": "6580b7c6",
   "metadata": {},
   "outputs": [],
   "source": [
    "_0H_1\n"
   ]
  },
  {
   "cell_type": "code",
   "execution_count": null,
   "id": "7659016b",
   "metadata": {},
   "outputs": [],
   "source": [
    "_1H2 = Matrix([[1, 0, 0, 0], [0, 1, 0, 0], [0, 0, 1, l_1], [0, 0, 0, 1]])\n"
   ]
  },
  {
   "cell_type": "code",
   "execution_count": null,
   "id": "fc941c69",
   "metadata": {},
   "outputs": [],
   "source": [
    "_1H2"
   ]
  },
  {
   "cell_type": "code",
   "execution_count": null,
   "id": "651a8cc4",
   "metadata": {},
   "outputs": [],
   "source": [
    "_2H3 = Matrix([[1, 0, 0, 0], [0, cos(alpha), -sin(alpha), 0], [0, sin(alpha), cos(alpha), 0], [0, 0, 0, 1]])"
   ]
  },
  {
   "cell_type": "code",
   "execution_count": null,
   "id": "030c0ed2",
   "metadata": {},
   "outputs": [],
   "source": [
    "_2H3"
   ]
  },
  {
   "cell_type": "code",
   "execution_count": null,
   "id": "587a6408",
   "metadata": {},
   "outputs": [],
   "source": [
    "_2H3 = _2H3.subs(alpha, pi/2)"
   ]
  },
  {
   "cell_type": "code",
   "execution_count": null,
   "id": "af328fa7",
   "metadata": {},
   "outputs": [],
   "source": [
    "_2H3"
   ]
  },
  {
   "cell_type": "code",
   "execution_count": null,
   "id": "edff6c58",
   "metadata": {},
   "outputs": [],
   "source": [
    "_3H4 = Matrix([[cos(theta_2), -sin(theta_2), 0, 0], [sin(theta_2), cos(theta_2), 0, 0], [0, 0, 1, 0], [0, 0, 0, 1]])\n"
   ]
  },
  {
   "cell_type": "code",
   "execution_count": null,
   "id": "e40e0bd1",
   "metadata": {},
   "outputs": [],
   "source": [
    "_3H4"
   ]
  },
  {
   "cell_type": "code",
   "execution_count": null,
   "id": "46fe18d5",
   "metadata": {},
   "outputs": [],
   "source": [
    "_4H5 = Matrix([[1, 0, 0, l_2], [0, 1, 0, 0], [0, 0, 1, 0], [0, 0, 0, 1]])\n"
   ]
  },
  {
   "cell_type": "code",
   "execution_count": null,
   "id": "70f835fb",
   "metadata": {},
   "outputs": [],
   "source": [
    "_4H5"
   ]
  },
  {
   "cell_type": "code",
   "execution_count": null,
   "id": "7e4cd13d",
   "metadata": {},
   "outputs": [],
   "source": [
    "_5H6 = Matrix([[cos(theta_3), -sin(theta_3), 0, 0], [sin(theta_3), cos(theta_3), 0, 0], [0, 0, 1, 0], [0, 0, 0, 1]])\n"
   ]
  },
  {
   "cell_type": "code",
   "execution_count": null,
   "id": "acb0eb35",
   "metadata": {},
   "outputs": [],
   "source": [
    "_5H6"
   ]
  },
  {
   "cell_type": "code",
   "execution_count": null,
   "id": "cbdc819e",
   "metadata": {},
   "outputs": [],
   "source": [
    "_6H7 = Matrix([[1, 0, 0, l_3], [0, 1, 0, 0], [0, 0, 1, 0], [0, 0, 0, 1]])"
   ]
  },
  {
   "cell_type": "code",
   "execution_count": null,
   "id": "f4c4541d",
   "metadata": {},
   "outputs": [],
   "source": [
    "H = simplify(_0H_1@_1H2@_2H3@_3H4@_4H5@_5H6@_6H7)"
   ]
  },
  {
   "cell_type": "code",
   "execution_count": null,
   "id": "dd457222",
   "metadata": {},
   "outputs": [],
   "source": [
    "H"
   ]
  },
  {
   "cell_type": "code",
   "execution_count": null,
   "id": "f604b1b1",
   "metadata": {},
   "outputs": [],
   "source": []
  },
  {
   "cell_type": "code",
   "execution_count": null,
   "id": "2d6ce6f4",
   "metadata": {},
   "outputs": [],
   "source": []
  }
 ],
 "metadata": {
  "kernelspec": {
   "display_name": "Python 3 (ipykernel)",
   "language": "python",
   "name": "python3"
  },
  "language_info": {
   "codemirror_mode": {
    "name": "ipython",
    "version": 3
   },
   "file_extension": ".py",
   "mimetype": "text/x-python",
   "name": "python",
   "nbconvert_exporter": "python",
   "pygments_lexer": "ipython3",
   "version": "3.7.16"
  }
 },
 "nbformat": 4,
 "nbformat_minor": 5
}
