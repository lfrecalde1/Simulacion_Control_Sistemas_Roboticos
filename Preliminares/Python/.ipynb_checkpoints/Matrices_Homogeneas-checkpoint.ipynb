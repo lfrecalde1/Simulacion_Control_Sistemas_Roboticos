{
 "cells": [
  {
   "cell_type": "markdown",
   "id": "a7e43564",
   "metadata": {},
   "source": [
    "## Importar Librerias"
   ]
  },
  {
   "cell_type": "code",
   "execution_count": null,
   "id": "558fe4b4",
   "metadata": {},
   "outputs": [],
   "source": [
    "import numpy as np\n",
    "from sympy import*\n",
    "init_printing()"
   ]
  },
  {
   "cell_type": "markdown",
   "id": "7bb73297",
   "metadata": {},
   "source": [
    "### Declarar variables simbolicas"
   ]
  },
  {
   "cell_type": "code",
   "execution_count": null,
   "id": "1e352206",
   "metadata": {},
   "outputs": [],
   "source": [
    "## Variables Simbolicas\n",
    "theta = symbols(\"theta\",  real=True)\n",
    "phi = symbols(\"phi\",  real=True)\n",
    "psi = symbols(\"psi\",  real=True)"
   ]
  },
  {
   "cell_type": "markdown",
   "id": "f95c974c",
   "metadata": {},
   "source": [
    "### Rotacion eje x"
   ]
  },
  {
   "cell_type": "code",
   "execution_count": null,
   "id": "ff5b4884",
   "metadata": {},
   "outputs": [],
   "source": [
    "H_x = Matrix([[1, 0, 0, 0], [0, cos(phi), -sin(phi), 0], [0, sin(phi), cos(phi), 0], [0, 0, 0, 1]])"
   ]
  },
  {
   "cell_type": "code",
   "execution_count": null,
   "id": "fb7cc56c",
   "metadata": {},
   "outputs": [],
   "source": [
    "H_x\n"
   ]
  },
  {
   "cell_type": "code",
   "execution_count": null,
   "id": "e12e089d",
   "metadata": {},
   "outputs": [],
   "source": []
  },
  {
   "cell_type": "markdown",
   "id": "300908ee",
   "metadata": {},
   "source": [
    "### Rotacion eje y"
   ]
  },
  {
   "cell_type": "code",
   "execution_count": null,
   "id": "3c9c6277",
   "metadata": {},
   "outputs": [],
   "source": [
    "H_y = Matrix([[cos(theta), 0, sin(theta), 0], [0, 1, 0, 0], [-sin(theta), 0, cos(theta), 0], [0, 0, 0, 1]])\n",
    "H_y\n"
   ]
  },
  {
   "cell_type": "markdown",
   "id": "5ed24efc",
   "metadata": {},
   "source": [
    "### Rotacion eje z"
   ]
  },
  {
   "cell_type": "code",
   "execution_count": null,
   "id": "46751e12",
   "metadata": {},
   "outputs": [],
   "source": [
    "H_z = Matrix([[cos(psi), -sin(psi), 0, 0], [sin(psi), cos(psi), 0, 0], [0, 0, 1, 0], [0, 0, 0, 1]])\n",
    "H_z\n"
   ]
  },
  {
   "cell_type": "markdown",
   "id": "4280e6af",
   "metadata": {},
   "source": [
    "### Composicion de Matrices Homogeneas"
   ]
  },
  {
   "cell_type": "code",
   "execution_count": null,
   "id": "8cdcb123",
   "metadata": {},
   "outputs": [],
   "source": [
    "H = simplify((H_z@H_y@H_x))\n",
    "H"
   ]
  },
  {
   "cell_type": "code",
   "execution_count": null,
   "id": "9541b623",
   "metadata": {},
   "outputs": [],
   "source": []
  },
  {
   "cell_type": "code",
   "execution_count": null,
   "id": "663950aa",
   "metadata": {},
   "outputs": [],
   "source": [
    "H = simplify((H_x@H_y@H_z))\n",
    "H"
   ]
  },
  {
   "cell_type": "code",
   "execution_count": null,
   "id": "0272d189",
   "metadata": {},
   "outputs": [],
   "source": []
  },
  {
   "cell_type": "code",
   "execution_count": null,
   "id": "110dcf6e",
   "metadata": {},
   "outputs": [],
   "source": []
  }
 ],
 "metadata": {
  "kernelspec": {
   "display_name": "Python 3 (ipykernel)",
   "language": "python",
   "name": "python3"
  },
  "language_info": {
   "codemirror_mode": {
    "name": "ipython",
    "version": 3
   },
   "file_extension": ".py",
   "mimetype": "text/x-python",
   "name": "python",
   "nbconvert_exporter": "python",
   "pygments_lexer": "ipython3",
   "version": "3.7.16"
  }
 },
 "nbformat": 4,
 "nbformat_minor": 5
}
