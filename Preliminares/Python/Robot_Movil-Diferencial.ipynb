{
 "cells": [
  {
   "cell_type": "markdown",
   "id": "94eeac46",
   "metadata": {},
   "source": [
    "# Anexo 6"
   ]
  },
  {
   "cell_type": "markdown",
   "id": "b691912a",
   "metadata": {},
   "source": [
    "## Importar Librerias"
   ]
  },
  {
   "cell_type": "code",
   "execution_count": 1,
   "id": "72aba48f",
   "metadata": {},
   "outputs": [],
   "source": [
    "import numpy as np\n",
    "from sympy import*\n",
    "init_printing()"
   ]
  },
  {
   "cell_type": "markdown",
   "id": "4b27d3a3",
   "metadata": {},
   "source": [
    "### Declarar variables simbolicas"
   ]
  },
  {
   "cell_type": "code",
   "execution_count": 2,
   "id": "90ee5733",
   "metadata": {},
   "outputs": [],
   "source": [
    "## Variables Simbolicas\n",
    "psi = symbols(\"psi\",  real=True)\n",
    "x = symbols(\"x\",  real=True)\n",
    "y = symbols(\"y\",  real=True)\n",
    "a = symbols(\"a\",  real=True)\n",
    "mu = symbols(\"mu\", real = True)\n",
    "omega = symbols(\"omega\", real = True)\n"
   ]
  },
  {
   "cell_type": "markdown",
   "id": "697401a4",
   "metadata": {},
   "source": [
    "### Matriz rotacion de B respecto a I"
   ]
  },
  {
   "cell_type": "code",
   "execution_count": 3,
   "id": "c19e2927",
   "metadata": {},
   "outputs": [],
   "source": [
    "iRb = Matrix([[cos(psi), -sin(psi)], [sin(psi), cos(psi)]])"
   ]
  },
  {
   "cell_type": "code",
   "execution_count": 4,
   "id": "53662d11",
   "metadata": {},
   "outputs": [
    {
     "data": {
      "image/png": "[encoded data removed]",
      "text/latex": [
       "$\\displaystyle \\left[\\begin{matrix}\\cos{\\left(\\psi \\right)} & - \\sin{\\left(\\psi \\right)}\\\\\\sin{\\left(\\psi \\right)} & \\cos{\\left(\\psi \\right)}\\end{matrix}\\right]$"
      ],
      "text/plain": [
       "⎡cos(ψ)  -sin(ψ)⎤\n",
       "⎢               ⎥\n",
       "⎣sin(ψ)  cos(ψ) ⎦"
      ]
     },
     "execution_count": 4,
     "metadata": {},
     "output_type": "execute_result"
    }
   ],
   "source": [
    "iRb"
   ]
  },
  {
   "cell_type": "markdown",
   "id": "dff42131",
   "metadata": {},
   "source": [
    "### Desplazamiento de B respecto a I"
   ]
  },
  {
   "cell_type": "code",
   "execution_count": 5,
   "id": "55bde25c",
   "metadata": {},
   "outputs": [],
   "source": [
    "desplazamiento_ib  = Matrix([[x], [y]])"
   ]
  },
  {
   "cell_type": "code",
   "execution_count": 6,
   "id": "91f5d291",
   "metadata": {},
   "outputs": [
    {
     "data": {
      "image/png": "[encoded data removed]",
      "text/latex": [
       "$\\displaystyle \\left[\\begin{matrix}x\\\\y\\end{matrix}\\right]$"
      ],
      "text/plain": [
       "⎡x⎤\n",
       "⎢ ⎥\n",
       "⎣y⎦"
      ]
     },
     "execution_count": 6,
     "metadata": {},
     "output_type": "execute_result"
    }
   ],
   "source": [
    "desplazamiento_ib"
   ]
  },
  {
   "cell_type": "markdown",
   "id": "b86048a4",
   "metadata": {},
   "source": [
    "### Matriz homogenea de B respecto a V"
   ]
  },
  {
   "cell_type": "code",
   "execution_count": 7,
   "id": "f41cbebd",
   "metadata": {},
   "outputs": [],
   "source": [
    "iHb = BlockMatrix([[iRb, desplazamiento_ib], [zeros(1,2), ones(1,1)]]).as_explicit()"
   ]
  },
  {
   "cell_type": "code",
   "execution_count": 8,
   "id": "8a3a4e9b",
   "metadata": {},
   "outputs": [
    {
     "data": {
      "image/png": "[encoded data removed]",
      "text/latex": [
       "$\\displaystyle \\left[\\begin{matrix}\\cos{\\left(\\psi \\right)} & - \\sin{\\left(\\psi \\right)} & x\\\\\\sin{\\left(\\psi \\right)} & \\cos{\\left(\\psi \\right)} & y\\\\0 & 0 & 1\\end{matrix}\\right]$"
      ],
      "text/plain": [
       "⎡cos(ψ)  -sin(ψ)  x⎤\n",
       "⎢                  ⎥\n",
       "⎢sin(ψ)  cos(ψ)   y⎥\n",
       "⎢                  ⎥\n",
       "⎣  0        0     1⎦"
      ]
     },
     "execution_count": 8,
     "metadata": {},
     "output_type": "execute_result"
    }
   ],
   "source": [
    "iHb"
   ]
  },
  {
   "cell_type": "markdown",
   "id": "b68a6d98",
   "metadata": {},
   "source": [
    "### Matriz rotacion de C respecto a B"
   ]
  },
  {
   "cell_type": "code",
   "execution_count": 9,
   "id": "5eabf3c1",
   "metadata": {},
   "outputs": [],
   "source": [
    "bRc = eye(2, 2)"
   ]
  },
  {
   "cell_type": "code",
   "execution_count": 10,
   "id": "d31f0761",
   "metadata": {},
   "outputs": [
    {
     "data": {
      "image/png": "[encoded data removed]",
      "text/latex": [
       "$\\displaystyle \\left[\\begin{matrix}1 & 0\\\\0 & 1\\end{matrix}\\right]$"
      ],
      "text/plain": [
       "⎡1  0⎤\n",
       "⎢    ⎥\n",
       "⎣0  1⎦"
      ]
     },
     "execution_count": 10,
     "metadata": {},
     "output_type": "execute_result"
    }
   ],
   "source": [
    "bRc"
   ]
  },
  {
   "cell_type": "markdown",
   "id": "d9e86eb2",
   "metadata": {},
   "source": [
    "### Desplazamiento de C respecto a B"
   ]
  },
  {
   "cell_type": "code",
   "execution_count": 11,
   "id": "23c8d686",
   "metadata": {},
   "outputs": [],
   "source": [
    "desplazamiento_bc  = Matrix([[a], [0]])"
   ]
  },
  {
   "cell_type": "code",
   "execution_count": 12,
   "id": "8e7ae9d6",
   "metadata": {},
   "outputs": [
    {
     "data": {
      "image/png": "[encoded data removed]",
      "text/latex": [
       "$\\displaystyle \\left[\\begin{matrix}a\\\\0\\end{matrix}\\right]$"
      ],
      "text/plain": [
       "⎡a⎤\n",
       "⎢ ⎥\n",
       "⎣0⎦"
      ]
     },
     "execution_count": 12,
     "metadata": {},
     "output_type": "execute_result"
    }
   ],
   "source": [
    "desplazamiento_bc"
   ]
  },
  {
   "cell_type": "markdown",
   "id": "ca53aa69",
   "metadata": {},
   "source": [
    "### Matriz homogenea de B respecto a V"
   ]
  },
  {
   "cell_type": "code",
   "execution_count": 13,
   "id": "2be033d9",
   "metadata": {},
   "outputs": [],
   "source": [
    "bHc = BlockMatrix([[bRc, desplazamiento_bc], [zeros(1,2), ones(1,1)]]).as_explicit()"
   ]
  },
  {
   "cell_type": "code",
   "execution_count": 14,
   "id": "2178716c",
   "metadata": {},
   "outputs": [
    {
     "data": {
      "image/png": "[encoded data removed]",
      "text/latex": [
       "$\\displaystyle \\left[\\begin{matrix}1 & 0 & a\\\\0 & 1 & 0\\\\0 & 0 & 1\\end{matrix}\\right]$"
      ],
      "text/plain": [
       "⎡1  0  a⎤\n",
       "⎢       ⎥\n",
       "⎢0  1  0⎥\n",
       "⎢       ⎥\n",
       "⎣0  0  1⎦"
      ]
     },
     "execution_count": 14,
     "metadata": {},
     "output_type": "execute_result"
    }
   ],
   "source": [
    "bHc"
   ]
  },
  {
   "cell_type": "markdown",
   "id": "88687633",
   "metadata": {},
   "source": [
    "### Posicion y Orientacion del Frame C"
   ]
  },
  {
   "cell_type": "code",
   "execution_count": 15,
   "id": "fdaef22c",
   "metadata": {},
   "outputs": [],
   "source": [
    "iHc = simplify(iHb*bHc)"
   ]
  },
  {
   "cell_type": "code",
   "execution_count": 16,
   "id": "fa1f4ea5",
   "metadata": {},
   "outputs": [
    {
     "data": {
      "image/png": "[encoded data removed]",
      "text/latex": [
       "$\\displaystyle \\left[\\begin{matrix}\\cos{\\left(\\psi \\right)} & - \\sin{\\left(\\psi \\right)} & a \\cos{\\left(\\psi \\right)} + x\\\\\\sin{\\left(\\psi \\right)} & \\cos{\\left(\\psi \\right)} & a \\sin{\\left(\\psi \\right)} + y\\\\0 & 0 & 1\\end{matrix}\\right]$"
      ],
      "text/plain": [
       "⎡cos(ψ)  -sin(ψ)  a⋅cos(ψ) + x⎤\n",
       "⎢                             ⎥\n",
       "⎢sin(ψ)  cos(ψ)   a⋅sin(ψ) + y⎥\n",
       "⎢                             ⎥\n",
       "⎣  0        0          1      ⎦"
      ]
     },
     "execution_count": 16,
     "metadata": {},
     "output_type": "execute_result"
    }
   ],
   "source": [
    "iHc"
   ]
  },
  {
   "cell_type": "code",
   "execution_count": 17,
   "id": "0a8c7f6e",
   "metadata": {},
   "outputs": [],
   "source": [
    "P = iHc[0:2, 2]"
   ]
  },
  {
   "cell_type": "code",
   "execution_count": 18,
   "id": "ceca8a9a",
   "metadata": {},
   "outputs": [
    {
     "data": {
      "image/png": "[encoded data removed]",
      "text/latex": [
       "$\\displaystyle \\left[\\begin{matrix}a \\cos{\\left(\\psi \\right)} + x\\\\a \\sin{\\left(\\psi \\right)} + y\\end{matrix}\\right]$"
      ],
      "text/plain": [
       "⎡a⋅cos(ψ) + x⎤\n",
       "⎢            ⎥\n",
       "⎣a⋅sin(ψ) + y⎦"
      ]
     },
     "execution_count": 18,
     "metadata": {},
     "output_type": "execute_result"
    }
   ],
   "source": [
    "P"
   ]
  },
  {
   "cell_type": "code",
   "execution_count": 19,
   "id": "4ff68643",
   "metadata": {},
   "outputs": [],
   "source": [
    "q = Matrix([[x], [y], [psi]])"
   ]
  },
  {
   "cell_type": "code",
   "execution_count": 20,
   "id": "c17afe47",
   "metadata": {},
   "outputs": [
    {
     "data": {
      "image/png": "[encoded data removed]",
      "text/latex": [
       "$\\displaystyle \\left[\\begin{matrix}x\\\\y\\\\\\psi\\end{matrix}\\right]$"
      ],
      "text/plain": [
       "⎡x⎤\n",
       "⎢ ⎥\n",
       "⎢y⎥\n",
       "⎢ ⎥\n",
       "⎣ψ⎦"
      ]
     },
     "execution_count": 20,
     "metadata": {},
     "output_type": "execute_result"
    }
   ],
   "source": [
    "q"
   ]
  },
  {
   "cell_type": "code",
   "execution_count": 21,
   "id": "7c62d70d",
   "metadata": {},
   "outputs": [],
   "source": [
    "dp = P.jacobian([x, y, psi])"
   ]
  },
  {
   "cell_type": "code",
   "execution_count": 22,
   "id": "a15262b7",
   "metadata": {},
   "outputs": [
    {
     "data": {
      "image/png": "[encoded data removed]",
      "text/latex": [
       "$\\displaystyle \\left[\\begin{matrix}1 & 0 & - a \\sin{\\left(\\psi \\right)}\\\\0 & 1 & a \\cos{\\left(\\psi \\right)}\\end{matrix}\\right]$"
      ],
      "text/plain": [
       "⎡1  0  -a⋅sin(ψ)⎤\n",
       "⎢               ⎥\n",
       "⎣0  1  a⋅cos(ψ) ⎦"
      ]
     },
     "execution_count": 22,
     "metadata": {},
     "output_type": "execute_result"
    }
   ],
   "source": [
    "dp"
   ]
  },
  {
   "cell_type": "code",
   "execution_count": 23,
   "id": "187161bf",
   "metadata": {},
   "outputs": [
    {
     "data": {
      "image/png": "[encoded data removed]",
      "text/latex": [
       "$\\displaystyle \\left( 2, \\  3\\right)$"
      ],
      "text/plain": [
       "(2, 3)"
      ]
     },
     "execution_count": 23,
     "metadata": {},
     "output_type": "execute_result"
    }
   ],
   "source": [
    "dp.shape"
   ]
  },
  {
   "cell_type": "code",
   "execution_count": 24,
   "id": "f8bad1d9",
   "metadata": {},
   "outputs": [],
   "source": [
    "q_dot = Matrix([[mu*cos(psi)], [mu*sin(psi)], [omega]])"
   ]
  },
  {
   "cell_type": "code",
   "execution_count": 25,
   "id": "34c72931",
   "metadata": {},
   "outputs": [
    {
     "data": {
      "image/png": "[encoded data removed]",
      "text/latex": [
       "$\\displaystyle \\left[\\begin{matrix}\\mu \\cos{\\left(\\psi \\right)}\\\\\\mu \\sin{\\left(\\psi \\right)}\\\\\\omega\\end{matrix}\\right]$"
      ],
      "text/plain": [
       "⎡μ⋅cos(ψ)⎤\n",
       "⎢        ⎥\n",
       "⎢μ⋅sin(ψ)⎥\n",
       "⎢        ⎥\n",
       "⎣   ω    ⎦"
      ]
     },
     "execution_count": 25,
     "metadata": {},
     "output_type": "execute_result"
    }
   ],
   "source": [
    "q_dot"
   ]
  }
 ],
 "metadata": {
  "kernelspec": {
   "display_name": "Python 3 (ipykernel)",
   "language": "python",
   "name": "python3"
  },
  "language_info": {
   "codemirror_mode": {
    "name": "ipython",
    "version": 3
   },
   "file_extension": ".py",
   "mimetype": "text/x-python",
   "name": "python",
   "nbconvert_exporter": "python",
   "pygments_lexer": "ipython3",
   "version": "3.7.16"
  }
 },
 "nbformat": 4,
 "nbformat_minor": 5
}
